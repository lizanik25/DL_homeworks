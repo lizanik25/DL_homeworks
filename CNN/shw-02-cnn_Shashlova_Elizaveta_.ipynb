{
 "cells": [
  {
   "cell_type": "markdown",
   "metadata": {
    "id": "w35Q6hOIy4sk",
    "pycharm": {
     "name": "#%% md\n"
    }
   },
   "source": [
    "# Глубинное обучение 1 / Введение в глубинное обучение, ФКН ВШЭ\n",
    "\n",
    "## Домашнее задание 2: сверточный классификатор.\n",
    "\n",
    "### Общая информация\n",
    "\n",
    "Оценка после штрафа после мягкого дедлайна вычисляется по формуле $M_{\\text{penalty}} = M_{\\text{full}} \\cdot 0.85^{t/1440}$, где $M_{\\text{full}}$ — полная оценка за работу без учета штрафа, а $t$ — время в минутах, прошедшее после мягкого дедлайна (округление до двух цифр после запятой). Таким образом, спустя первые сутки после мягкого дедлайна вы не можете получить оценку выше 8.5, а если сдать через четыре дня после мягкого дедлайна, то ваш максимум — 5.22 балла.\n",
    "\n",
    "### Оценивание и штрафы\n",
    "\n",
    "Максимально допустимая оценка за работу — 10 баллов. Сдавать задание после указанного срока сдачи нельзя.\n",
    "\n",
    "Задание выполняется самостоятельно. «Похожие» решения считаются плагиатом и все задействованные студенты (в том числе те, у кого списали) не могут получить за него больше 0 баллов. Если вы нашли решение какого-то из заданий (или его часть) в открытом источнике, необходимо указать ссылку на этот источник в отдельном блоке в конце вашей работы (скорее всего вы будете не единственным, кто это нашел, поэтому чтобы исключить подозрение в плагиате, необходима ссылка на источник).\n",
    "\n",
    "Неэффективная реализация кода может негативно отразиться на оценке. Также оценка может быть снижена за плохо читаемый код и плохо оформленные графики. Все ответы должны сопровождаться кодом или комментариями о том, как они были получены.\n",
    "\n",
    "### О задании\n",
    "\n",
    "В этом задании вам предстоит познакомиться со сверточными сетями и их обучением для классификации изображений с использованием библиотеки PyTorch.\n"
   ]
  },
  {
   "cell_type": "code",
   "execution_count": 1,
   "metadata": {
    "execution": {
     "iopub.execute_input": "2024-11-26T09:54:50.035283Z",
     "iopub.status.busy": "2024-11-26T09:54:50.033975Z",
     "iopub.status.idle": "2024-11-26T09:55:06.102336Z",
     "shell.execute_reply": "2024-11-26T09:55:06.101337Z",
     "shell.execute_reply.started": "2024-11-26T09:54:50.035235Z"
    },
    "id": "SaACifdX2QOo",
    "pycharm": {
     "name": "#%%\n"
    },
    "tags": []
   },
   "outputs": [],
   "source": [
    "import torch\n",
    "import torch.nn as nn\n",
    "import torch.nn.functional as F\n",
    "import torch.optim as optim\n",
    "import torchvision\n",
    "import torchvision.transforms as transforms\n",
    "\n",
    "import matplotlib.pyplot as plt\n",
    "import numpy as np\n",
    "\n",
    "from sklearn.model_selection import train_test_split"
   ]
  },
  {
   "cell_type": "markdown",
   "metadata": {
    "id": "TIXaUYM-0JFl",
    "pycharm": {
     "name": "#%% md\n"
    }
   },
   "source": [
    "## 0. Загрузка данных\n",
    "\n",
    "Работать мы будем с набором данных [CIFAR10](https://www.cs.toronto.edu/~kriz/cifar.html). CIFAR10 представляет собой набор изображений 32х32 пикселя, разделенных на 10 классов.\n",
    "\n",
    "![title](https://pytorch.org/tutorials/_images/cifar10.png)\n",
    "\n",
    "\n"
   ]
  },
  {
   "cell_type": "markdown",
   "metadata": {
    "id": "g-0EEjl_10vB",
    "pycharm": {
     "name": "#%% md\n"
    }
   },
   "source": [
    "Набор данных уже определен в <code>torchvision.datasets</code>, так что возьмем его оттуда. \n",
    "\n"
   ]
  },
  {
   "cell_type": "code",
   "execution_count": 2,
   "metadata": {
    "execution": {
     "iopub.execute_input": "2024-11-26T09:55:06.104566Z",
     "iopub.status.busy": "2024-11-26T09:55:06.103689Z",
     "iopub.status.idle": "2024-11-26T09:55:06.143780Z",
     "shell.execute_reply": "2024-11-26T09:55:06.142856Z",
     "shell.execute_reply.started": "2024-11-26T09:55:06.104531Z"
    },
    "id": "Cbwe92dT3aPZ",
    "pycharm": {
     "name": "#%%\n"
    },
    "tags": []
   },
   "outputs": [],
   "source": [
    "def get_cifar10_data(batch_size, transform_train):\n",
    "    torch.manual_seed(0)\n",
    "    np.random.seed(0)\n",
    "\n",
    "    transform_test = transforms.Compose(\n",
    "        [transforms.ToTensor(),\n",
    "         # Переводим цвета пикселей в отрезок [-1, 1]\n",
    "         transforms.Normalize((0.5, 0.5, 0.5), (0.5, 0.5, 0.5))]\n",
    "    )\n",
    "    \n",
    "    # Загружаем данные\n",
    "    trainvalset = torchvision.datasets.CIFAR10(root='./data', train=True,\n",
    "                                               download=True, transform=transform_train)\n",
    "    testset = torchvision.datasets.CIFAR10(root='./data', train=False,\n",
    "                                           download=True, transform=transform_test)\n",
    "    \n",
    "    # В датасете определено разбиение только на train и test,\n",
    "    # так что валидацию дополнительно выделяем из обучающей выборки\n",
    "    train_idx, valid_idx = train_test_split(np.arange(len(trainvalset)), test_size=0.3, \n",
    "                                            shuffle=True, random_state=0)\n",
    "    trainset = torch.utils.data.Subset(trainvalset, train_idx)\n",
    "    valset = torch.utils.data.Subset(trainvalset, valid_idx)\n",
    "\n",
    "    train_loader = torch.utils.data.DataLoader(trainset, batch_size=batch_size,\n",
    "                                               shuffle=True, num_workers=2)\n",
    "    val_loader = torch.utils.data.DataLoader(valset, batch_size=batch_size,\n",
    "                                             shuffle=False, num_workers=2)\n",
    "    test_loader = torch.utils.data.DataLoader(testset, batch_size=batch_size,\n",
    "                                              shuffle=False, num_workers=2)\n",
    "    \n",
    "    return train_loader, val_loader, test_loader\n",
    "    "
   ]
  },
  {
   "cell_type": "code",
   "execution_count": 3,
   "metadata": {
    "colab": {
     "base_uri": "https://localhost:8080/",
     "height": 101,
     "referenced_widgets": [
      "aa9da821ba0c42b5b051355e50e691f0",
      "95c5696493db48738dbdc9940acec1d8",
      "fe515a1f743f49d0b251b43919d52a8e",
      "f4f339c969fd4e21bc683ecb2567897b",
      "17b2be81159e41f1a5c6bb966516572e",
      "22bb21a6c57a413fb7374efe31349e6e",
      "18b20091dbf64b129824a8fb3266e3c0",
      "9bad0d6a00c14229b0d776a2cfe15090",
      "0fee9f5b7bdb4129a71ef0cfe9d3b1fa",
      "cd991379661b4b4ab405bf66f75c6834",
      "7d238166caf64537ad9aa2040dcdc1ec"
     ]
    },
    "execution": {
     "iopub.execute_input": "2024-11-26T09:55:06.146167Z",
     "iopub.status.busy": "2024-11-26T09:55:06.144928Z",
     "iopub.status.idle": "2024-11-26T09:55:08.489611Z",
     "shell.execute_reply": "2024-11-26T09:55:08.488706Z",
     "shell.execute_reply.started": "2024-11-26T09:55:06.146125Z"
    },
    "id": "2G2rLnN5y6Jj",
    "outputId": "542c91e6-44f6-4e26-f1e8-5df3b83fd044",
    "pycharm": {
     "name": "#%%\n"
    },
    "tags": []
   },
   "outputs": [
    {
     "name": "stdout",
     "output_type": "stream",
     "text": [
      "Files already downloaded and verified\n",
      "Files already downloaded and verified\n"
     ]
    }
   ],
   "source": [
    "transform = transforms.Compose(\n",
    "        [transforms.ToTensor(),\n",
    "         transforms.Normalize((0.5, 0.5, 0.5), (0.5, 0.5, 0.5))]\n",
    ")\n",
    "\n",
    "train_loader, val_loader, test_loader = get_cifar10_data(batch_size=64, \n",
    "                                                         transform_train=transform)"
   ]
  },
  {
   "cell_type": "markdown",
   "metadata": {
    "id": "-82HWgXs77W1",
    "pycharm": {
     "name": "#%% md\n"
    }
   },
   "source": [
    "Посмотрим на изображения:"
   ]
  },
  {
   "cell_type": "code",
   "execution_count": 4,
   "metadata": {
    "colab": {
     "base_uri": "https://localhost:8080/",
     "height": 155
    },
    "execution": {
     "iopub.execute_input": "2024-11-26T09:55:08.492047Z",
     "iopub.status.busy": "2024-11-26T09:55:08.491276Z",
     "iopub.status.idle": "2024-11-26T09:55:08.873267Z",
     "shell.execute_reply": "2024-11-26T09:55:08.871456Z",
     "shell.execute_reply.started": "2024-11-26T09:55:08.492010Z"
    },
    "id": "ACnwaC5iy6L2",
    "outputId": "fd2fc631-ea7b-45f2-9728-eb1c5f9e683c",
    "pycharm": {
     "name": "#%%\n"
    },
    "tags": []
   },
   "outputs": [
    {
     "ename": "AttributeError",
     "evalue": "'_MultiProcessingDataLoaderIter' object has no attribute 'next'",
     "output_type": "error",
     "traceback": [
      "\u001b[0;31m---------------------------------------------------------------------------\u001b[0m",
      "\u001b[0;31mAttributeError\u001b[0m                            Traceback (most recent call last)",
      "\u001b[0;32m/tmp/ipykernel_2391/2815832155.py\u001b[0m in \u001b[0;36m<cell line: 9>\u001b[0;34m()\u001b[0m\n\u001b[1;32m      7\u001b[0m \u001b[0;34m\u001b[0m\u001b[0m\n\u001b[1;32m      8\u001b[0m \u001b[0mdataiter\u001b[0m \u001b[0;34m=\u001b[0m \u001b[0miter\u001b[0m\u001b[0;34m(\u001b[0m\u001b[0mtrain_loader\u001b[0m\u001b[0;34m)\u001b[0m\u001b[0;34m\u001b[0m\u001b[0;34m\u001b[0m\u001b[0m\n\u001b[0;32m----> 9\u001b[0;31m \u001b[0mimages\u001b[0m\u001b[0;34m,\u001b[0m \u001b[0mlabels\u001b[0m \u001b[0;34m=\u001b[0m \u001b[0mdataiter\u001b[0m\u001b[0;34m.\u001b[0m\u001b[0mnext\u001b[0m\u001b[0;34m(\u001b[0m\u001b[0;34m)\u001b[0m\u001b[0;34m\u001b[0m\u001b[0;34m\u001b[0m\u001b[0m\n\u001b[0m\u001b[1;32m     10\u001b[0m \u001b[0;34m\u001b[0m\u001b[0m\n\u001b[1;32m     11\u001b[0m \u001b[0mimshow\u001b[0m\u001b[0;34m(\u001b[0m\u001b[0mtorchvision\u001b[0m\u001b[0;34m.\u001b[0m\u001b[0mutils\u001b[0m\u001b[0;34m.\u001b[0m\u001b[0mmake_grid\u001b[0m\u001b[0;34m(\u001b[0m\u001b[0mimages\u001b[0m\u001b[0;34m[\u001b[0m\u001b[0;34m:\u001b[0m\u001b[0;36m4\u001b[0m\u001b[0;34m]\u001b[0m\u001b[0;34m)\u001b[0m\u001b[0;34m)\u001b[0m\u001b[0;34m\u001b[0m\u001b[0;34m\u001b[0m\u001b[0m\n",
      "\u001b[0;31mAttributeError\u001b[0m: '_MultiProcessingDataLoaderIter' object has no attribute 'next'"
     ]
    }
   ],
   "source": [
    "def imshow(img):\n",
    "    img = img / 2 + 0.5    \n",
    "    npimg = img.numpy()\n",
    "    plt.imshow(np.transpose(npimg, (1, 2, 0)))\n",
    "    plt.show()\n",
    "\n",
    "\n",
    "dataiter = iter(train_loader)\n",
    "images, labels = dataiter.next()\n",
    "\n",
    "imshow(torchvision.utils.make_grid(images[:4]))\n",
    "\n",
    "classes = ('plane', 'car', 'bird', 'cat',\n",
    "           'deer', 'dog', 'frog', 'horse', 'ship', 'truck')\n",
    "print(*[classes[labels[i]] for i in range(4)])"
   ]
  },
  {
   "cell_type": "markdown",
   "metadata": {
    "id": "KFDilng29YZ_",
    "pycharm": {
     "name": "#%% md\n"
    }
   },
   "source": [
    "## 1. Задание сверточной сети (3 балла)"
   ]
  },
  {
   "cell_type": "markdown",
   "metadata": {
    "id": "OX7Ul8YbYdQR",
    "pycharm": {
     "name": "#%% md\n"
    }
   },
   "source": [
    "Теперь нам нужно задать сверточную нейронную сеть, которую мы будем обучать классифицировать изображения.\n",
    "\n",
    "Используем сеть, основанную на одном блоке архитектуры ResNet.\n",
    "\n",
    "<img src=\"https://i.ibb.co/2hg962h/basic-block.png\" width=\"500\"/>\n",
    "\n",
    "__Указания:__\n",
    "\n",
    "- Все сверточные слои должны иметь 32 выходных канала, а также не должны изменять ширину и высоту изображения.\n",
    "- Выход блока сократите до размерности 32х4х4, применив average pooling.\n",
    "- Для получения итоговых логитов, распрямите выход пулинга в вектор из 512 элементов, а затем пропустите его через линейный слой."
   ]
  },
  {
   "cell_type": "markdown",
   "metadata": {
    "id": "sbyIylT9O9Dr",
    "pycharm": {
     "name": "#%% md\n"
    }
   },
   "source": [
    "**Задание 1.1 (3 балла).**\n",
    "\n",
    "Определите архитектуру сети соответственно схеме и указаниям выше.\n",
    "\n",
    "Ключевые слова: <code>Conv2d</code>, <code>BatchNorm2d</code>, <code>AvgPool2d</code>."
   ]
  },
  {
   "cell_type": "code",
   "execution_count": 6,
   "metadata": {
    "execution": {
     "iopub.execute_input": "2024-11-26T09:55:27.490804Z",
     "iopub.status.busy": "2024-11-26T09:55:27.489671Z",
     "iopub.status.idle": "2024-11-26T09:55:27.503612Z",
     "shell.execute_reply": "2024-11-26T09:55:27.502754Z",
     "shell.execute_reply.started": "2024-11-26T09:55:27.490760Z"
    },
    "id": "s9ml1QGKy6N9",
    "pycharm": {
     "name": "#%%\n"
    },
    "tags": []
   },
   "outputs": [],
   "source": [
    "n_classes = 10\n",
    "\n",
    "class BasicBlockNet(nn.Module):\n",
    "    def __init__(self):\n",
    "        super().__init__()\n",
    "        \n",
    "        out_channels = 32  \n",
    "\n",
    "        self.block = nn.Sequential(\n",
    "            nn.Conv2d(in_channels=3, out_channels=out_channels, kernel_size=3, padding='same'),\n",
    "            nn.BatchNorm2d(out_channels),\n",
    "            nn.ReLU(),\n",
    "            nn.Conv2d(in_channels=out_channels, out_channels=out_channels, kernel_size=3, padding='same'),\n",
    "            nn.BatchNorm2d(out_channels),\n",
    "        )\n",
    "        \n",
    "        self.shortcut = nn.Conv2d(in_channels=3, out_channels=out_channels, kernel_size=1, padding='same')\n",
    "        self.relu = nn.ReLU()\n",
    "        self.pool = nn.AvgPool2d(kernel_size=8)\n",
    "        self.flatten = nn.Flatten(start_dim=1)\n",
    "        self.linear = nn.Linear(in_features=512, out_features=n_classes)\n",
    "        \n",
    "    def forward(self, x):\n",
    "        residual = self.shortcut(x)\n",
    "        out = self.block(x)\n",
    "        out += residual \n",
    "        out = self.relu(out) \n",
    "        out = self.pool(out) \n",
    "        out = self.flatten(out) \n",
    "        out = self.linear(out)  \n",
    "        return out"
   ]
  },
  {
   "cell_type": "code",
   "execution_count": 7,
   "metadata": {
    "execution": {
     "iopub.execute_input": "2024-11-26T09:55:29.059911Z",
     "iopub.status.busy": "2024-11-26T09:55:29.058869Z",
     "iopub.status.idle": "2024-11-26T09:55:29.093712Z",
     "shell.execute_reply": "2024-11-26T09:55:29.092944Z",
     "shell.execute_reply.started": "2024-11-26T09:55:29.059869Z"
    },
    "id": "FI4BQg7Ky6Pw",
    "pycharm": {
     "name": "#%%\n"
    },
    "tags": []
   },
   "outputs": [
    {
     "data": {
      "text/plain": [
       "BasicBlockNet(\n",
       "  (block): Sequential(\n",
       "    (0): Conv2d(3, 32, kernel_size=(3, 3), stride=(1, 1), padding=same)\n",
       "    (1): BatchNorm2d(32, eps=1e-05, momentum=0.1, affine=True, track_running_stats=True)\n",
       "    (2): ReLU()\n",
       "    (3): Conv2d(32, 32, kernel_size=(3, 3), stride=(1, 1), padding=same)\n",
       "    (4): BatchNorm2d(32, eps=1e-05, momentum=0.1, affine=True, track_running_stats=True)\n",
       "  )\n",
       "  (shortcut): Conv2d(3, 32, kernel_size=(1, 1), stride=(1, 1), padding=same)\n",
       "  (relu): ReLU()\n",
       "  (pool): AvgPool2d(kernel_size=8, stride=8, padding=0)\n",
       "  (flatten): Flatten(start_dim=1, end_dim=-1)\n",
       "  (linear): Linear(in_features=512, out_features=10, bias=True)\n",
       ")"
      ]
     },
     "execution_count": 7,
     "metadata": {},
     "output_type": "execute_result"
    }
   ],
   "source": [
    "net = BasicBlockNet()\n",
    "net"
   ]
  },
  {
   "cell_type": "markdown",
   "metadata": {
    "id": "igPoGZEub8d3",
    "pycharm": {
     "name": "#%% md\n"
    }
   },
   "source": [
    "Проверим, что выход сети имеет корректную размерность:"
   ]
  },
  {
   "cell_type": "code",
   "execution_count": 8,
   "metadata": {
    "execution": {
     "iopub.execute_input": "2024-11-26T09:55:31.876467Z",
     "iopub.status.busy": "2024-11-26T09:55:31.875370Z",
     "iopub.status.idle": "2024-11-26T09:55:32.096108Z",
     "shell.execute_reply": "2024-11-26T09:55:32.095287Z",
     "shell.execute_reply.started": "2024-11-26T09:55:31.876425Z"
    },
    "id": "cCIzFUpJ_Agw",
    "pycharm": {
     "name": "#%%\n"
    },
    "tags": []
   },
   "outputs": [],
   "source": [
    "assert net(torch.zeros((10, 3, 32, 32))).shape == (10, 10)"
   ]
  },
  {
   "cell_type": "markdown",
   "metadata": {
    "id": "08osX622cDGz",
    "pycharm": {
     "name": "#%% md\n"
    }
   },
   "source": [
    "Чтобы проводить вычисления на GPU, в PyTorch необходимо руками перекладывать объекты, с которыми вы хотите проводить вычисления, на графический ускоритель. Это делается следующим образрм:"
   ]
  },
  {
   "cell_type": "code",
   "execution_count": 9,
   "metadata": {
    "execution": {
     "iopub.execute_input": "2024-11-26T09:55:33.652731Z",
     "iopub.status.busy": "2024-11-26T09:55:33.651377Z",
     "iopub.status.idle": "2024-11-26T09:55:33.779144Z",
     "shell.execute_reply": "2024-11-26T09:55:33.778207Z",
     "shell.execute_reply.started": "2024-11-26T09:55:33.652685Z"
    },
    "id": "56hDOMCFcDZX",
    "pycharm": {
     "name": "#%%\n"
    },
    "tags": []
   },
   "outputs": [
    {
     "name": "stdout",
     "output_type": "stream",
     "text": [
      "cpu\n"
     ]
    }
   ],
   "source": [
    "device = torch.device('cuda:0' if torch.cuda.is_available() else 'cpu')\n",
    "print(device)"
   ]
  },
  {
   "cell_type": "code",
   "execution_count": 10,
   "metadata": {
    "execution": {
     "iopub.execute_input": "2024-11-26T09:55:34.147021Z",
     "iopub.status.busy": "2024-11-26T09:55:34.145963Z",
     "iopub.status.idle": "2024-11-26T09:55:34.165702Z",
     "shell.execute_reply": "2024-11-26T09:55:34.164964Z",
     "shell.execute_reply.started": "2024-11-26T09:55:34.146979Z"
    },
    "id": "ohnDWbp0qbtC",
    "pycharm": {
     "name": "#%%\n"
    },
    "tags": []
   },
   "outputs": [],
   "source": [
    "net = net.to(device)"
   ]
  },
  {
   "cell_type": "markdown",
   "metadata": {
    "id": "H_bOlTVUp5QF",
    "pycharm": {
     "name": "#%% md\n"
    }
   },
   "source": [
    "Подключение GPU в google.colab:\n",
    "\n",
    "**Среда выполнения** -> **Сменить среду выполнения** -> **Аппаратный ускоритель** -> **GPU**"
   ]
  },
  {
   "cell_type": "markdown",
   "metadata": {
    "id": "AGi6XX_7_Bgg",
    "pycharm": {
     "name": "#%% md\n"
    }
   },
   "source": [
    "## 2. Обучение и тестирование модели (3 балла)"
   ]
  },
  {
   "cell_type": "markdown",
   "metadata": {
    "id": "0agj_MQoO9Ds",
    "pycharm": {
     "name": "#%% md\n"
    }
   },
   "source": [
    "**Задание 2.1 (2 балла).** Переходим к обучению модели. Заполните пропуски в функциях <code>test</code> и <code>train_epoch</code>. В качестве функции потерь будем использовать [кросс-энтропию](https://pytorch.org/docs/stable/generated/torch.nn.functional.cross_entropy.html), а в качестве метрики качества accuracy."
   ]
  },
  {
   "cell_type": "code",
   "execution_count": 12,
   "metadata": {
    "execution": {
     "iopub.execute_input": "2024-11-26T09:56:03.367822Z",
     "iopub.status.busy": "2024-11-26T09:56:03.366682Z",
     "iopub.status.idle": "2024-11-26T09:56:03.400446Z",
     "shell.execute_reply": "2024-11-26T09:56:03.399541Z",
     "shell.execute_reply.started": "2024-11-26T09:56:03.367785Z"
    },
    "id": "g8gsPPRIevDS",
    "pycharm": {
     "name": "#%%\n"
    },
    "tags": []
   },
   "outputs": [],
   "source": [
    "def test(model, loader):\n",
    "    loss_log = []\n",
    "    acc_log = []\n",
    "    model.eval()\n",
    "    \n",
    "    for data, target in loader:\n",
    "        \n",
    "        data, target = data.to(device), target.to(device)\n",
    "        with torch.no_grad():\n",
    "            logits = model(data)  \n",
    "            loss = nn.CrossEntropyLoss()(logits, target) \n",
    "\n",
    "        acc = torch.sum((logits.argmax(dim=1) == target).to(torch.float32)) / len(target)\n",
    "        loss_log.append(loss.item())\n",
    "        acc_log.append(acc.item())\n",
    "        \n",
    "    return np.mean(loss_log), np.mean(acc_log)\n",
    "\n",
    "def train_epoch(model, optimizer, train_loader):\n",
    "    loss_log = []\n",
    "    acc_log = []\n",
    "    model.train()\n",
    "    \n",
    "    for data, target in train_loader:\n",
    "        \n",
    "        data, target = data.to(device), target.to(device)\n",
    "        optimizer.zero_grad()\n",
    "        logits = model(data)\n",
    "        loss = nn.CrossEntropyLoss()(logits, target)\n",
    "        loss.backward()\n",
    "        optimizer.step()\n",
    "\n",
    "        \n",
    "        acc = torch.sum((logits.argmax(dim=1) == target).to(torch.float32)) / len(target)\n",
    "        loss_log.append(loss.item())  \n",
    "        acc_log.append(acc.item())\n",
    "\n",
    "    return loss_log, acc_log\n",
    "\n",
    "def train(model, optimizer, n_epochs, train_loader, val_loader, scheduler=None):\n",
    "    train_loss_log, train_acc_log, val_loss_log, val_acc_log = [], [], [], []\n",
    "\n",
    "    for epoch in range(n_epochs):\n",
    "        train_loss, train_acc = train_epoch(model, optimizer, train_loader)\n",
    "        val_loss, val_acc = test(model, val_loader)\n",
    "        \n",
    "        train_loss_log.extend(train_loss)\n",
    "        train_acc_log.extend(train_acc)\n",
    "        \n",
    "        val_loss_log.append(val_loss)\n",
    "        val_acc_log.append(val_acc)\n",
    "\n",
    "        print(f\"Epoch {epoch}\")\n",
    "        print(f\" train loss: {np.mean(train_loss)}, train acc: {np.mean(train_acc)}\")\n",
    "        print(f\" val loss: {val_loss}, val acc: {val_acc}\\n\")\n",
    "        \n",
    "        if scheduler is not None:\n",
    "            scheduler.step()\n",
    "\n",
    "    return train_loss_log, train_acc_log, val_loss_log, val_acc_log"
   ]
  },
  {
   "cell_type": "markdown",
   "metadata": {
    "id": "iSOqk_CAO9Dt",
    "pycharm": {
     "name": "#%% md\n"
    }
   },
   "source": [
    "Запустим обучение модели. В качестве оптимизатора будем использовать стохастический градиентный спуск, который является де-факто стандартом в задачах компьютерного зрения (наравне с <code>Adam</code>).\n",
    "\n",
    "__Замечание:__ Для достижения наилучшего качества в нашем случае потребуется обучать модель несколько сотен эпох. Однако в целях экономии вашего времени и сил, во всех экспериментах мы ограничимся 20 эпохами."
   ]
  },
  {
   "cell_type": "code",
   "execution_count": null,
   "metadata": {
    "execution": {
     "iopub.status.busy": "2024-11-26T08:48:04.528438Z",
     "iopub.status.idle": "2024-11-26T08:48:04.529200Z",
     "shell.execute_reply": "2024-11-26T08:48:04.528982Z",
     "shell.execute_reply.started": "2024-11-26T08:48:04.528956Z"
    },
    "id": "MKZBGhuAgMDu",
    "pycharm": {
     "name": "#%%\n"
    },
    "scrolled": true,
    "tags": []
   },
   "outputs": [],
   "source": [
    "optimizer = optim.SGD(net.parameters(), lr=0.1, momentum=0.9)\n",
    "train_loss_log, train_acc_log, val_loss_log, val_acc_log = train(net, optimizer, 20, train_loader, val_loader)"
   ]
  },
  {
   "cell_type": "markdown",
   "metadata": {
    "id": "gUb1jQW8O9Dt",
    "pycharm": {
     "name": "#%% md\n"
    }
   },
   "source": [
    "Посчитайте точность на тестовой выборке:"
   ]
  },
  {
   "cell_type": "code",
   "execution_count": null,
   "metadata": {
    "execution": {
     "iopub.status.busy": "2024-11-26T08:48:04.530116Z",
     "iopub.status.idle": "2024-11-26T08:48:04.530623Z",
     "shell.execute_reply": "2024-11-26T08:48:04.530396Z",
     "shell.execute_reply.started": "2024-11-26T08:48:04.530372Z"
    },
    "id": "Jyuc55B9_Amc",
    "pycharm": {
     "name": "#%%\n"
    },
    "tags": []
   },
   "outputs": [],
   "source": [
    "loss, accuracy = test(net, test_loader)\n",
    "print(f'Loss = {loss}, Точность модели = {accuracy}')"
   ]
  },
  {
   "cell_type": "markdown",
   "metadata": {
    "id": "zM38Q9fwO9Dt",
    "pycharm": {
     "name": "#%% md\n"
    }
   },
   "source": [
    "Если вы все сделали правильно, у вас должна была получиться точность $\\ge 67\\%$."
   ]
  },
  {
   "cell_type": "markdown",
   "metadata": {
    "id": "DHFNSKcoO9Dt",
    "pycharm": {
     "name": "#%% md\n"
    }
   },
   "source": [
    "**Задание 2.2 (1 балл).** Постройте графики зависимости функции потерь и точности классификации от номера шага оптимизатора. На каждом графике расположите данные и для обучающей и для валидационной выборки, итого у вас должно получиться два графика. Обратите внимание, что на обучающей выборке эти данные считаются по каждому батчу, на валидационной же они считаются по всей выборке раз в эпоху."
   ]
  },
  {
   "cell_type": "code",
   "execution_count": null,
   "metadata": {
    "execution": {
     "iopub.status.busy": "2024-11-26T08:48:04.532299Z",
     "iopub.status.idle": "2024-11-26T08:48:04.532838Z",
     "shell.execute_reply": "2024-11-26T08:48:04.532629Z",
     "shell.execute_reply.started": "2024-11-26T08:48:04.532605Z"
    },
    "id": "LzIP0tGLO9Dt",
    "pycharm": {
     "name": "#%%\n"
    },
    "tags": []
   },
   "outputs": [],
   "source": [
    "plt.figure(figsize=(12, 6))\n",
    "\n",
    "plt.plot(train_loss_log, label='Обучающая выборка', alpha=0.7)\n",
    "\n",
    "val_loss_steps = [val_loss_log[i] for i in range(len(val_loss_log))]\n",
    "plt.plot(\n",
    "    np.linspace(0, len(train_loss_log), len(val_loss_steps)), \n",
    "    val_loss_steps, \n",
    "    label='Валидационная выборка', \n",
    "    marker='o'\n",
    ")\n",
    "\n",
    "plt.title('Зависимость функции потерь от номера шага оптимизатора')\n",
    "plt.xlabel('Шаг оптимизатора')\n",
    "plt.ylabel('Функция потерь')\n",
    "plt.legend()\n",
    "plt.grid(True)\n",
    "plt.show()\n",
    "\n",
    "plt.figure(figsize=(12, 6))\n",
    "\n",
    "plt.plot(train_acc_log, label='Обучающая выборка', alpha=0.7)\n",
    "\n",
    "val_acc_steps = [val_acc_log[i] for i in range(len(val_acc_log))]\n",
    "plt.plot(\n",
    "    np.linspace(0, len(train_acc_log), len(val_acc_steps)), \n",
    "    val_acc_steps, \n",
    "    label='Валидационная выборка', \n",
    "    marker='o'\n",
    ")\n",
    "\n",
    "plt.title('Зависимость точности классификации от номера шага оптимизатора')\n",
    "plt.xlabel('Шаг оптимизатора')\n",
    "plt.ylabel('Точность')\n",
    "plt.legend()\n",
    "plt.grid(True)\n",
    "plt.show()\n"
   ]
  },
  {
   "cell_type": "markdown",
   "metadata": {
    "id": "_ttOJPj-O9Dt",
    "pycharm": {
     "name": "#%% md\n"
    }
   },
   "source": [
    "## 3. Расписание длины шага (2 балла)"
   ]
  },
  {
   "cell_type": "markdown",
   "metadata": {
    "id": "qiz3JstuO9Dt",
    "pycharm": {
     "name": "#%% md\n"
    }
   },
   "source": [
    "С курса \"Машинное обучение 1\" вы уже должны знать, что сходимость стохастического градиентного спуска мы можем теоретически гарантировать только если будем определенным образом со временем уменьшать длину шага. На практике при обучении нейронных сетей такая техника оказывается очень полезной, однако теоретически обоснованными способами уменьшения длины шага фантазия не ограничивается.\n",
    "\n",
    "Одним из простейших способов является кусочно постоянная функция: на нескольких фиксированных эпохах уменьшаем длину шага в константу раз."
   ]
  },
  {
   "cell_type": "code",
   "execution_count": null,
   "metadata": {
    "execution": {
     "iopub.status.busy": "2024-11-26T08:48:04.534180Z",
     "iopub.status.idle": "2024-11-26T08:48:04.534723Z",
     "shell.execute_reply": "2024-11-26T08:48:04.534500Z",
     "shell.execute_reply.started": "2024-11-26T08:48:04.534475Z"
    },
    "id": "V2Z0OT3nO9Du",
    "pycharm": {
     "name": "#%%\n"
    },
    "tags": []
   },
   "outputs": [],
   "source": [
    "net = BasicBlockNet().to(device)\n",
    "optimizer = optim.SGD(net.parameters(), lr=0.1, momentum=0.9)\n",
    "scheduler = optim.lr_scheduler.MultiStepLR(optimizer, milestones=[10, 15], gamma=0.1)\n",
    "tr_loss_log, tr_acc_log, val_loss_log, val_acc_log = train(net, optimizer, 20, train_loader, val_loader, scheduler)"
   ]
  },
  {
   "cell_type": "markdown",
   "metadata": {
    "id": "5Xc76KvzO9Du",
    "pycharm": {
     "name": "#%% md\n"
    }
   },
   "source": [
    "Посчитайте точность на тестовой выборке:"
   ]
  },
  {
   "cell_type": "code",
   "execution_count": null,
   "metadata": {
    "execution": {
     "iopub.status.busy": "2024-11-26T08:48:04.537342Z",
     "iopub.status.idle": "2024-11-26T08:48:04.538050Z",
     "shell.execute_reply": "2024-11-26T08:48:04.537896Z",
     "shell.execute_reply.started": "2024-11-26T08:48:04.537866Z"
    },
    "id": "1AjiYhKqO9Du",
    "pycharm": {
     "name": "#%%\n"
    },
    "tags": []
   },
   "outputs": [],
   "source": [
    "loss, accuracy = test(net, test_loader)\n",
    "print(f'Loss = {loss}, Точность модели = {accuracy}')"
   ]
  },
  {
   "cell_type": "markdown",
   "metadata": {
    "id": "yE0dgLYrO9Du",
    "pycharm": {
     "name": "#%% md\n"
    }
   },
   "source": [
    "**Задание 3.0 (0.5 баллов).** Здесь может возникнуть вопрос: а что будет, если мы не будем уменьшать длину шага в процессе обучения, а сразу возьмем констатную, равную значению нашей кусочно-постоянной функции на последних эпохах, то есть $0.001$ в нашем случае. Запустите обучение и проверьте, что в таком случае мы получим худшее качество на тестовой выборке."
   ]
  },
  {
   "cell_type": "code",
   "execution_count": null,
   "metadata": {
    "execution": {
     "iopub.status.busy": "2024-11-26T08:48:04.539805Z",
     "iopub.status.idle": "2024-11-26T08:48:04.540454Z",
     "shell.execute_reply": "2024-11-26T08:48:04.540243Z",
     "shell.execute_reply.started": "2024-11-26T08:48:04.540219Z"
    },
    "tags": []
   },
   "outputs": [],
   "source": [
    "net = BasicBlockNet().to(device)\n",
    "optimizer = optim.SGD(net.parameters(), lr=0.001, momentum=0.9)\n",
    "train_loss_log, train_acc_log, val_loss_log, val_acc_log = train(net, optimizer, 20, train_loader, val_loader)"
   ]
  },
  {
   "cell_type": "code",
   "execution_count": null,
   "metadata": {
    "execution": {
     "iopub.status.busy": "2024-11-26T08:48:04.541245Z",
     "iopub.status.idle": "2024-11-26T08:48:04.541847Z",
     "shell.execute_reply": "2024-11-26T08:48:04.541668Z",
     "shell.execute_reply.started": "2024-11-26T08:48:04.541647Z"
    },
    "tags": []
   },
   "outputs": [],
   "source": [
    "loss, accuracy = test(net, test_loader)\n",
    "print(f'Loss = {loss}, Точность модели = {accuracy}')"
   ]
  },
  {
   "cell_type": "markdown",
   "metadata": {},
   "source": [
    "Качество действительно ухудшилось"
   ]
  },
  {
   "cell_type": "markdown",
   "metadata": {
    "id": "xVotU378O9Du",
    "pycharm": {
     "name": "#%% md\n"
    }
   },
   "source": [
    "**Задание 3.1 (1.5 балла).** Изучите, какие еще способы уменьшения длины шага представлены в <code>torch.optim.lr_scheduler</code>. Выберите несколько из них, объясните, как они устроены, и обучите модель с ними. Удалось ли добиться улучшения качества на тестовой выборке?"
   ]
  },
  {
   "cell_type": "markdown",
   "metadata": {},
   "source": [
    "1. ExponentialLR -  умножает lr на гиперпараметр gamma после каждой эпохи"
   ]
  },
  {
   "cell_type": "code",
   "execution_count": null,
   "metadata": {
    "execution": {
     "iopub.status.busy": "2024-11-26T08:48:04.543183Z",
     "iopub.status.idle": "2024-11-26T08:48:04.549823Z",
     "shell.execute_reply": "2024-11-26T08:48:04.549664Z",
     "shell.execute_reply.started": "2024-11-26T08:48:04.549628Z"
    },
    "tags": []
   },
   "outputs": [],
   "source": [
    "net = BasicBlockNet().to(device)\n",
    "optimizer = optim.SGD(net.parameters(), lr=0.1, momentum=0.9)\n",
    "scheduler = optim.lr_scheduler.ExponentialLR(optimizer, gamma=0.8)\n",
    "tr_loss_log, tr_acc_log, val_loss_log, val_acc_log = train(net, optimizer, 20, train_loader, val_loader, scheduler)"
   ]
  },
  {
   "cell_type": "code",
   "execution_count": null,
   "metadata": {
    "execution": {
     "iopub.status.busy": "2024-11-26T08:48:04.550856Z",
     "iopub.status.idle": "2024-11-26T08:48:04.551499Z",
     "shell.execute_reply": "2024-11-26T08:48:04.551299Z",
     "shell.execute_reply.started": "2024-11-26T08:48:04.551277Z"
    },
    "tags": []
   },
   "outputs": [],
   "source": [
    "loss, accuracy = test(net, test_loader)\n",
    "print(f'Loss = {loss}, Точность модели = {accuracy}')"
   ]
  },
  {
   "cell_type": "markdown",
   "metadata": {},
   "source": [
    "2. CosineAnnealingLR - косинусное снижение (cosine annealing schedule).\n",
    "\n",
    "Значение $\\eta_{\\text{max}}$ устанавливается равным начальному значению скорости обучения, а $T_{\\text{cur}}$ — это количество эпох с момента последнего перезапуска:\n",
    "\n",
    "$\n",
    "\\eta_t = \\eta_{\\text{min}} + \\frac{1}{2} (\\eta_{\\text{max}} - \\eta_{\\text{min}}) \\left( 1 + \\cos\\left(\\frac{T_{\\text{cur}}}{T_{\\text{max}}} \\pi \\right) \\right), \\quad T_{\\text{cur}} \\neq (2k + 1) T_{\\text{max}}\n",
    "$\n",
    "\n",
    "$\n",
    "\\eta_{t+1} = \\eta_t + \\frac{1}{2} (\\eta_{\\text{max}} - \\eta_{\\text{min}}) \\left( 1 - \\cos\\left(\\frac{1}{T_{\\text{max}}} \\pi \\right) \\right), \\quad T_{\\text{cur}} = (2k + 1) T_{\\text{max}}\n",
    "$\n"
   ]
  },
  {
   "cell_type": "code",
   "execution_count": null,
   "metadata": {
    "execution": {
     "iopub.status.busy": "2024-11-26T08:48:04.552196Z",
     "iopub.status.idle": "2024-11-26T08:48:04.552776Z",
     "shell.execute_reply": "2024-11-26T08:48:04.552615Z",
     "shell.execute_reply.started": "2024-11-26T08:48:04.552593Z"
    },
    "tags": []
   },
   "outputs": [],
   "source": [
    "net = BasicBlockNet().to(device)\n",
    "optimizer = optim.SGD(net.parameters(), lr=0.1, momentum=0.9)\n",
    "scheduler = optim.lr_scheduler.CosineAnnealingLR(optimizer, T_max=len(train_loader)*20)\n",
    "tr_loss_log, tr_acc_log, val_loss_log, val_acc_log = train(net, optimizer, 20, train_loader, val_loader, scheduler)"
   ]
  },
  {
   "cell_type": "code",
   "execution_count": null,
   "metadata": {
    "execution": {
     "iopub.status.busy": "2024-11-26T08:48:04.553992Z",
     "iopub.status.idle": "2024-11-26T08:48:04.554996Z",
     "shell.execute_reply": "2024-11-26T08:48:04.554794Z",
     "shell.execute_reply.started": "2024-11-26T08:48:04.554768Z"
    },
    "tags": []
   },
   "outputs": [],
   "source": [
    "loss, accuracy = test(net, test_loader)\n",
    "print(f'Loss = {loss}, Точность модели = {accuracy}')"
   ]
  },
  {
   "cell_type": "markdown",
   "metadata": {},
   "source": [
    "3. StepLR - снижает значение скорости обучения для каждой группы параметров в заданное число раз (gamma) через каждые step_size эпох."
   ]
  },
  {
   "cell_type": "code",
   "execution_count": null,
   "metadata": {
    "execution": {
     "iopub.status.busy": "2024-11-26T08:48:04.555815Z",
     "iopub.status.idle": "2024-11-26T08:48:04.556643Z",
     "shell.execute_reply": "2024-11-26T08:48:04.556450Z",
     "shell.execute_reply.started": "2024-11-26T08:48:04.556427Z"
    },
    "tags": []
   },
   "outputs": [],
   "source": [
    "net = BasicBlockNet().to(device)\n",
    "optimizer = optim.SGD(net.parameters(), lr=0.1, momentum=0.9)\n",
    "scheduler = optim.lr_scheduler.StepLR(optimizer, step_size=5, gamma=0.5)\n",
    "tr_loss_log, tr_acc_log, val_loss_log, val_acc_log = train(net, optimizer, 20, train_loader, val_loader, scheduler)"
   ]
  },
  {
   "cell_type": "code",
   "execution_count": null,
   "metadata": {
    "execution": {
     "iopub.status.busy": "2024-11-26T08:48:04.557418Z",
     "iopub.status.idle": "2024-11-26T08:48:04.558221Z",
     "shell.execute_reply": "2024-11-26T08:48:04.558036Z",
     "shell.execute_reply.started": "2024-11-26T08:48:04.558015Z"
    },
    "tags": []
   },
   "outputs": [],
   "source": [
    "loss, accuracy = test(net, test_loader)\n",
    "print(f'Loss = {loss}, Точность модели = {accuracy}')"
   ]
  },
  {
   "cell_type": "markdown",
   "metadata": {},
   "source": [
    "4. OneCycleLR - сначала скорость обучения увеличивается от начального значения до максимального, а затем снижается с максимального значения до минимального, которое значительно ниже начального. OneCycleLR изменяет скорость обучения после каждой батча "
   ]
  },
  {
   "cell_type": "code",
   "execution_count": null,
   "metadata": {
    "execution": {
     "iopub.status.busy": "2024-11-26T08:48:04.559109Z",
     "iopub.status.idle": "2024-11-26T08:48:04.559857Z",
     "shell.execute_reply": "2024-11-26T08:48:04.559693Z",
     "shell.execute_reply.started": "2024-11-26T08:48:04.559670Z"
    },
    "tags": []
   },
   "outputs": [],
   "source": [
    "net = BasicBlockNet().to(device)\n",
    "optimizer = optim.SGD(net.parameters(), lr=0.1, momentum=0.9)\n",
    "scheduler = optim.lr_scheduler.OneCycleLR(optimizer, max_lr=0.3, steps_per_epoch=len(train_loader), epochs=20)\n",
    "tr_loss_log, tr_acc_log, val_loss_log, val_acc_log = train(net, optimizer, 20, train_loader, val_loader, scheduler)"
   ]
  },
  {
   "cell_type": "code",
   "execution_count": null,
   "metadata": {
    "execution": {
     "iopub.status.busy": "2024-11-26T08:48:04.560999Z",
     "iopub.status.idle": "2024-11-26T08:48:04.561588Z",
     "shell.execute_reply": "2024-11-26T08:48:04.561422Z",
     "shell.execute_reply.started": "2024-11-26T08:48:04.561397Z"
    },
    "tags": []
   },
   "outputs": [],
   "source": [
    "loss, accuracy = test(net, test_loader)\n",
    "print(f'Loss = {loss}, Точность модели = {accuracy}')"
   ]
  },
  {
   "cell_type": "markdown",
   "metadata": {},
   "source": [
    "5. CyclicLR - этот способ изменяет скорость обучения в пределах двух границ с постоянной частотой, как описано в статье Cyclical Learning Rates for Training Neural Networks. Расстояние между этими границами может изменяться на основе итераций или циклов."
   ]
  },
  {
   "cell_type": "code",
   "execution_count": null,
   "metadata": {
    "execution": {
     "iopub.status.busy": "2024-11-26T08:48:04.562541Z",
     "iopub.status.idle": "2024-11-26T08:48:04.562931Z",
     "shell.execute_reply": "2024-11-26T08:48:04.562773Z",
     "shell.execute_reply.started": "2024-11-26T08:48:04.562732Z"
    },
    "tags": []
   },
   "outputs": [],
   "source": [
    "net = BasicBlockNet().to(device)\n",
    "optimizer = optim.SGD(net.parameters(), lr=0.1, momentum=0.9)\n",
    "scheduler = torch.optim.lr_scheduler.CyclicLR(optimizer, base_lr=0.001, max_lr=0.1, step_size_up=5, mode=\"triangular2\")\n",
    "tr_loss_log, tr_acc_log, val_loss_log, val_acc_log = train(net, optimizer, 20, train_loader, val_loader, scheduler)"
   ]
  },
  {
   "cell_type": "code",
   "execution_count": null,
   "metadata": {
    "execution": {
     "iopub.status.busy": "2024-11-26T08:48:04.563911Z",
     "iopub.status.idle": "2024-11-26T08:48:04.564693Z",
     "shell.execute_reply": "2024-11-26T08:48:04.564523Z",
     "shell.execute_reply.started": "2024-11-26T08:48:04.564502Z"
    },
    "tags": []
   },
   "outputs": [],
   "source": [
    "loss, accuracy = test(net, test_loader)\n",
    "print(f'Loss = {loss}, Точность модели = {accuracy}')"
   ]
  },
  {
   "cell_type": "markdown",
   "metadata": {
    "id": "nkGlzocOO9Du",
    "pycharm": {
     "name": "#%%\n"
    }
   },
   "source": [
    "Видим, что точность модели немного улучшилась при использовании CyclicLR\n",
    "и ухудшилась при всех остальных способах "
   ]
  },
  {
   "cell_type": "markdown",
   "metadata": {
    "id": "7xFXgl_3_E--",
    "pycharm": {
     "name": "#%% md\n"
    }
   },
   "source": [
    "## 4. Аугментации данных (2 балла)"
   ]
  },
  {
   "cell_type": "markdown",
   "metadata": {
    "id": "5G0Easo9O9Du",
    "pycharm": {
     "name": "#%% md\n"
    }
   },
   "source": [
    "Еще одной стандартной техникой, применяющейся в глубинном обучении, а особенно часто в компьютерном зрении, являются аугментации данных. Суть аугментаций состоит в том, что мы можем некоторым синтетическим образом видоизменять объекты обучающей выборки, тем самым расширяя ее, а также делая итоговую модель более устойчивой к таким изменениям.\n",
    "\n",
    "Простейшая аугментация, которую можно применить к картинкам — разворот картинки по горизонтальной оси. То есть при обучении модели с вероятностью $0.5$ мы будем разворачивать картинку из обучающей выборки."
   ]
  },
  {
   "cell_type": "code",
   "execution_count": null,
   "metadata": {
    "execution": {
     "iopub.status.busy": "2024-11-26T09:55:08.887463Z",
     "iopub.status.idle": "2024-11-26T09:55:08.887967Z",
     "shell.execute_reply": "2024-11-26T09:55:08.887756Z",
     "shell.execute_reply.started": "2024-11-26T09:55:08.887733Z"
    },
    "id": "SzeFpgtfO9Du",
    "pycharm": {
     "name": "#%%\n"
    },
    "tags": []
   },
   "outputs": [],
   "source": [
    "dataiter = iter(train_loader)\n",
    "images, labels = dataiter.next()\n",
    "\n",
    "imshow(torchvision.utils.make_grid(images[:4]))\n",
    "\n",
    "imshow(torchvision.utils.make_grid(transforms.functional.hflip(images[:4])))"
   ]
  },
  {
   "cell_type": "markdown",
   "metadata": {
    "id": "BR4a-XJQO9Du",
    "pycharm": {
     "name": "#%% md\n"
    }
   },
   "source": [
    "Наиболее удобным способом работы с аугментациями в PyTorch является их задание в списке <code>transforms</code>, который затем передается в загрузчик данных. Обучим нашу сеть, применяя горизонтальные повороты:"
   ]
  },
  {
   "cell_type": "code",
   "execution_count": 17,
   "metadata": {
    "execution": {
     "iopub.execute_input": "2024-11-26T09:15:39.651817Z",
     "iopub.status.busy": "2024-11-26T09:15:39.650814Z",
     "iopub.status.idle": "2024-11-26T09:22:40.213580Z",
     "shell.execute_reply": "2024-11-26T09:22:40.212790Z",
     "shell.execute_reply.started": "2024-11-26T09:15:39.651782Z"
    },
    "id": "na0ScBf-_AqX",
    "pycharm": {
     "name": "#%%\n"
    },
    "scrolled": true,
    "tags": []
   },
   "outputs": [
    {
     "name": "stdout",
     "output_type": "stream",
     "text": [
      "Files already downloaded and verified\n",
      "Files already downloaded and verified\n",
      "Epoch 0\n",
      " train loss: 1.4819418806480533, train acc: 0.4699334029305788\n",
      " val loss: 1.2903767192617375, val acc: 0.537987588694755\n",
      "\n",
      "Epoch 1\n",
      " train loss: 1.1751501410927154, train acc: 0.5877799360146252\n",
      " val loss: 1.0969221188666973, val acc: 0.6188386525245423\n",
      "\n",
      "Epoch 2\n",
      " train loss: 1.050908883921189, train acc: 0.6341366871401423\n",
      " val loss: 1.049557152707526, val acc: 0.6383865247381494\n",
      "\n",
      "Epoch 3\n",
      " train loss: 0.99197962024748, train acc: 0.6563397753827097\n",
      " val loss: 0.9752251924352443, val acc: 0.6635195034615538\n",
      "\n",
      "Epoch 4\n",
      " train loss: 0.9486573364660552, train acc: 0.6700509271194556\n",
      " val loss: 0.9910797418432032, val acc: 0.6572251773895101\n",
      "\n",
      "Epoch 5\n",
      " train loss: 0.9166564265814299, train acc: 0.683027552839171\n",
      " val loss: 0.9286246951590194, val acc: 0.6742907800572984\n",
      "\n",
      "Epoch 6\n",
      " train loss: 0.8988320501129632, train acc: 0.6927314572839894\n",
      " val loss: 0.9507466516596206, val acc: 0.6666666667512122\n",
      "\n",
      "Epoch 7\n",
      " train loss: 0.8887058495930388, train acc: 0.6900463567355433\n",
      " val loss: 0.8752152545655028, val acc: 0.6996010638297873\n",
      "\n",
      "Epoch 8\n",
      " train loss: 0.8723254687607397, train acc: 0.6970569992632055\n",
      " val loss: 0.9051201817837168, val acc: 0.6888519502700643\n",
      "\n",
      "Epoch 9\n",
      " train loss: 0.8517767587571083, train acc: 0.7051449464923503\n",
      " val loss: 0.8771582805095834, val acc: 0.702593085106383\n",
      "\n",
      "Epoch 10\n",
      " train loss: 0.7645834168960669, train acc: 0.7398880255941499\n",
      " val loss: 0.8043687934571124, val acc: 0.7255762412192973\n",
      "\n",
      "Epoch 11\n",
      " train loss: 0.7491255768692253, train acc: 0.7414305301645339\n",
      " val loss: 0.7952324309247605, val acc: 0.7261081561129143\n",
      "\n",
      "Epoch 12\n",
      " train loss: 0.7421211850381638, train acc: 0.7448705601517853\n",
      " val loss: 0.7921623635799326, val acc: 0.7279476949509154\n",
      "\n",
      "Epoch 13\n",
      " train loss: 0.7362531517279868, train acc: 0.7480535061529393\n",
      " val loss: 0.7858915623198164, val acc: 0.731781914893617\n",
      "\n",
      "Epoch 14\n",
      " train loss: 0.735232705226546, train acc: 0.7483228323010683\n",
      " val loss: 0.7880040442689936, val acc: 0.7291223404255319\n",
      "\n",
      "Epoch 15\n",
      " train loss: 0.7236877510926841, train acc: 0.7517098132827382\n",
      " val loss: 0.7802374340118245, val acc: 0.733000886440277\n",
      "\n",
      "Epoch 16\n",
      " train loss: 0.7184675765211883, train acc: 0.7538072929957667\n",
      " val loss: 0.7764957804629143, val acc: 0.7335328013338941\n",
      "\n",
      "Epoch 17\n",
      " train loss: 0.719375335756124, train acc: 0.7539541981773795\n",
      " val loss: 0.7762309967203344, val acc: 0.735062056653043\n",
      "\n",
      "Epoch 18\n",
      " train loss: 0.7190554552256953, train acc: 0.753970521023766\n",
      " val loss: 0.7751406837016979, val acc: 0.7347960992062346\n",
      "\n",
      "Epoch 19\n",
      " train loss: 0.7188136839670498, train acc: 0.7529013776909934\n",
      " val loss: 0.7762182372681639, val acc: 0.7344636523977239\n",
      "\n"
     ]
    }
   ],
   "source": [
    "transform = transforms.Compose(\n",
    "        [transforms.RandomHorizontalFlip(),\n",
    "         transforms.ToTensor(),\n",
    "         transforms.Normalize((0.5, 0.5, 0.5), (0.5, 0.5, 0.5))]\n",
    ")\n",
    "\n",
    "train_loader, val_loader, test_loader = get_cifar10_data(batch_size=64, transform_train=transform)\n",
    "\n",
    "net = BasicBlockNet().to(device)\n",
    "optimizer = optim.SGD(net.parameters(), lr=0.1, momentum=0.9)\n",
    "scheduler = optim.lr_scheduler.MultiStepLR(optimizer, milestones=[10, 15], gamma=0.1)\n",
    "tr_loss_log, tr_acc_log, val_loss_log, val_acc_log = train(net, optimizer, 20, train_loader, val_loader, scheduler)"
   ]
  },
  {
   "cell_type": "markdown",
   "metadata": {
    "id": "v3ZIqDQqO9Dv",
    "pycharm": {
     "name": "#%% md\n"
    }
   },
   "source": [
    "Посчитайте точность на тестовой выборке:"
   ]
  },
  {
   "cell_type": "code",
   "execution_count": 18,
   "metadata": {
    "execution": {
     "iopub.execute_input": "2024-11-26T09:22:40.216217Z",
     "iopub.status.busy": "2024-11-26T09:22:40.215196Z",
     "iopub.status.idle": "2024-11-26T09:22:42.416679Z",
     "shell.execute_reply": "2024-11-26T09:22:42.415764Z",
     "shell.execute_reply.started": "2024-11-26T09:22:40.216183Z"
    },
    "id": "nNJizMkM_Auh",
    "pycharm": {
     "name": "#%%\n"
    },
    "tags": []
   },
   "outputs": [
    {
     "name": "stdout",
     "output_type": "stream",
     "text": [
      "Loss = 0.78858767971871, Точность модели = 0.7298964968152867\n"
     ]
    }
   ],
   "source": [
    "loss, accuracy = test(net, test_loader)\n",
    "print(f'Loss = {loss}, Точность модели = {accuracy}')"
   ]
  },
  {
   "cell_type": "markdown",
   "metadata": {
    "id": "KndehSCHO9Dv",
    "pycharm": {
     "name": "#%% md\n"
    }
   },
   "source": [
    "**Задание 4.1 (2 балла).** Изучите, какие еще способы аугментаций изображений представлены в <code>torchvision.transforms</code>. Выберите несколько из них, объясните, как они устроены, и обучите модель с ними (по отдельности и вместе). Удалось ли добиться улучшения качества на тестовой выборке?"
   ]
  },
  {
   "cell_type": "markdown",
   "metadata": {},
   "source": [
    "1. RandomRotation случайно вращает изображение на указанный угол"
   ]
  },
  {
   "cell_type": "code",
   "execution_count": 19,
   "metadata": {
    "execution": {
     "iopub.execute_input": "2024-11-26T09:22:42.419267Z",
     "iopub.status.busy": "2024-11-26T09:22:42.417971Z",
     "iopub.status.idle": "2024-11-26T09:29:49.252477Z",
     "shell.execute_reply": "2024-11-26T09:29:49.251671Z",
     "shell.execute_reply.started": "2024-11-26T09:22:42.419233Z"
    },
    "tags": []
   },
   "outputs": [
    {
     "name": "stdout",
     "output_type": "stream",
     "text": [
      "Files already downloaded and verified\n",
      "Files already downloaded and verified\n",
      "Epoch 0\n",
      " train loss: 1.6132791698305873, train acc: 0.41962245362768225\n",
      " val loss: 1.4277350902557373, val acc: 0.48189273045418113\n",
      "\n",
      "Epoch 1\n",
      " train loss: 1.392240122859613, train acc: 0.5045377383284421\n",
      " val loss: 1.281417847440598, val acc: 0.5492464538584364\n",
      "\n",
      "Epoch 2\n",
      " train loss: 1.2953308241023007, train acc: 0.5433574366831039\n",
      " val loss: 1.2500418627515753, val acc: 0.5601728723404256\n",
      "\n",
      "Epoch 3\n",
      " train loss: 1.2403516978624751, train acc: 0.5628958279079668\n",
      " val loss: 1.1949552769356586, val acc: 0.5807845744680851\n",
      "\n",
      "Epoch 4\n",
      " train loss: 1.1915322946456057, train acc: 0.5799327500341579\n",
      " val loss: 1.2050676074433835, val acc: 0.5827349289934686\n",
      "\n",
      "Epoch 5\n",
      " train loss: 1.1589220026729312, train acc: 0.5893999739146538\n",
      " val loss: 1.2276497366580557, val acc: 0.5713874114320633\n",
      "\n",
      "Epoch 6\n",
      " train loss: 1.1312244284959336, train acc: 0.5988957625856347\n",
      " val loss: 1.1061254653524846, val acc: 0.6072916667512123\n",
      "\n",
      "Epoch 7\n",
      " train loss: 1.1191608506975053, train acc: 0.6034865500286248\n",
      " val loss: 1.0873078343716074, val acc: 0.6181737587807027\n",
      "\n",
      "Epoch 8\n",
      " train loss: 1.0946112603112592, train acc: 0.6155246147507941\n",
      " val loss: 1.074530486350364, val acc: 0.6210549646235527\n",
      "\n",
      "Epoch 9\n",
      " train loss: 1.0801179826368579, train acc: 0.6189646448470121\n",
      " val loss: 1.0901523156368986, val acc: 0.6161125885679367\n",
      "\n",
      "Epoch 10\n",
      " train loss: 0.9774955310594883, train acc: 0.6574742099920619\n",
      " val loss: 1.0011766590970628, val acc: 0.6516400710065314\n",
      "\n",
      "Epoch 11\n",
      " train loss: 0.9703054422652264, train acc: 0.6602572472919276\n",
      " val loss: 0.993525944111195, val acc: 0.6535904255319149\n",
      "\n",
      "Epoch 12\n",
      " train loss: 0.9603846243138288, train acc: 0.6630729302845664\n",
      " val loss: 0.9901755510492528, val acc: 0.6547207446808511\n",
      "\n",
      "Epoch 13\n",
      " train loss: 0.9580422549404654, train acc: 0.6634728388768881\n",
      " val loss: 0.9845419381527191, val acc: 0.6549645390916378\n",
      "\n",
      "Epoch 14\n",
      " train loss: 0.953215916370343, train acc: 0.6671373073753971\n",
      " val loss: 0.9844385124267416, val acc: 0.6567597518575953\n",
      "\n",
      "Epoch 15\n",
      " train loss: 0.9441329989398419, train acc: 0.6704018672815842\n",
      " val loss: 0.9764805258588588, val acc: 0.6556515957446809\n",
      "\n",
      "Epoch 16\n",
      " train loss: 0.94589562411718, train acc: 0.6719076455838066\n",
      " val loss: 0.9750377439438028, val acc: 0.6598625885679367\n",
      "\n",
      "Epoch 17\n",
      " train loss: 0.9366193825627593, train acc: 0.672401410243193\n",
      " val loss: 0.9780588814552794, val acc: 0.6579343970785749\n",
      "\n",
      "Epoch 18\n",
      " train loss: 0.937044522553083, train acc: 0.6720953578269024\n",
      " val loss: 0.9734913935052588, val acc: 0.6589539007937655\n",
      "\n",
      "Epoch 19\n",
      " train loss: 0.9368430311762654, train acc: 0.6725156698409992\n",
      " val loss: 0.9705995975656713, val acc: 0.6606382978723404\n",
      "\n"
     ]
    }
   ],
   "source": [
    "transform = transforms.Compose([\n",
    "    transforms.RandomRotation(degrees=(-30, 30)),\n",
    "    transforms.ToTensor(),\n",
    "    transforms.Normalize((0.5, 0.5, 0.5), (0.5, 0.5, 0.5))\n",
    "])\n",
    "\n",
    "train_loader, val_loader, test_loader = get_cifar10_data(batch_size=64, transform_train=transform)\n",
    "\n",
    "net = BasicBlockNet().to(device)\n",
    "optimizer = optim.SGD(net.parameters(), lr=0.1, momentum=0.9)\n",
    "scheduler = optim.lr_scheduler.MultiStepLR(optimizer, milestones=[10, 15], gamma=0.1)\n",
    "tr_loss_log, tr_acc_log, val_loss_log, val_acc_log = train(net, optimizer, 20, train_loader, val_loader, scheduler)"
   ]
  },
  {
   "cell_type": "code",
   "execution_count": 20,
   "metadata": {
    "execution": {
     "iopub.execute_input": "2024-11-26T09:29:49.255473Z",
     "iopub.status.busy": "2024-11-26T09:29:49.254530Z",
     "iopub.status.idle": "2024-11-26T09:29:51.389115Z",
     "shell.execute_reply": "2024-11-26T09:29:51.388300Z",
     "shell.execute_reply.started": "2024-11-26T09:29:49.255433Z"
    },
    "tags": []
   },
   "outputs": [
    {
     "name": "stdout",
     "output_type": "stream",
     "text": [
      "Loss = 0.8842636604977262, Точность модели = 0.6964570063694268\n"
     ]
    }
   ],
   "source": [
    "loss, accuracy = test(net, test_loader)\n",
    "print(f'Loss = {loss}, Точность модели = {accuracy}')"
   ]
  },
  {
   "cell_type": "markdown",
   "metadata": {},
   "source": [
    "Качество модели ухудшилось"
   ]
  },
  {
   "cell_type": "markdown",
   "metadata": {},
   "source": [
    "2. RandomGrayscale случайно преобразует изображение в градации серого с заданной вероятностью p"
   ]
  },
  {
   "cell_type": "code",
   "execution_count": null,
   "metadata": {
    "execution": {
     "iopub.execute_input": "2024-11-26T09:29:51.390981Z",
     "iopub.status.busy": "2024-11-26T09:29:51.390444Z",
     "iopub.status.idle": "2024-11-26T09:36:58.870287Z"
    }
   },
   "outputs": [
    {
     "name": "stdout",
     "output_type": "stream",
     "text": [
      "Files already downloaded and verified\n",
      "Files already downloaded and verified\n",
      "Epoch 0\n",
      " train loss: 1.525947941504623, train acc: 0.45753215588424934\n",
      " val loss: 1.2651645954619062, val acc: 0.5523492908224147\n",
      "\n",
      "Epoch 1\n",
      " train loss: 1.2006732561034739, train acc: 0.5842582920133741\n",
      " val loss: 1.156546888452895, val acc: 0.5993351063829787\n",
      "\n",
      "Epoch 2\n",
      " train loss: 1.0896178261671468, train acc: 0.6218782645910705\n",
      " val loss: 1.128366657774499, val acc: 0.6136746454746165\n",
      "\n",
      "Epoch 3\n",
      " train loss: 1.0378861389168874, train acc: 0.6410330699610318\n",
      " val loss: 1.02205875579347, val acc: 0.6429964539852548\n",
      "\n",
      "Epoch 4\n",
      " train loss: 1.0029416377409284, train acc: 0.6524794332723949\n",
      " val loss: 1.0548620497926753, val acc: 0.635483155986096\n",
      "\n",
      "Epoch 5\n",
      " train loss: 0.9690946990000918, train acc: 0.6649010838494658\n",
      " val loss: 1.003455032439942, val acc: 0.6530806736743197\n",
      "\n",
      "Epoch 6\n",
      " train loss: 0.9451830922140718, train acc: 0.6722341016398051\n",
      " val loss: 1.0187926343146791, val acc: 0.6541666667512123\n",
      "\n",
      "Epoch 7\n",
      " train loss: 0.9332818808459713, train acc: 0.6786285583236318\n",
      " val loss: 0.953446902112758, val acc: 0.6674202127659574\n",
      "\n",
      "Epoch 8\n",
      " train loss: 0.9162268963330843, train acc: 0.6842517628312329\n",
      " val loss: 0.9792684965945305, val acc: 0.6610150710065315\n",
      "\n",
      "Epoch 9\n",
      " train loss: 0.8900835382219207, train acc: 0.6919642856831525\n",
      " val loss: 0.9338224768638611, val acc: 0.6766622340425532\n",
      "\n",
      "Epoch 10\n",
      " train loss: 0.7858116653981113, train acc: 0.728849732352785\n",
      " val loss: 0.8738737925570061, val acc: 0.699844858240574\n",
      "\n",
      "Epoch 11\n",
      " train loss: 0.7729675374257717, train acc: 0.7336363932986146\n",
      " val loss: 0.8647049183541156, val acc: 0.7042553191489361\n",
      "\n",
      "Epoch 12\n",
      " train loss: 0.7664068035604313, train acc: 0.73941874514986\n",
      " val loss: 0.8592526539843133, val acc: 0.7043218085106383\n",
      "\n",
      "Epoch 13\n",
      " train loss: 0.7600802944281855, train acc: 0.7397084748287306\n",
      " val loss: 0.8558456935781114, val acc: 0.7060726949509154\n",
      "\n",
      "Epoch 14\n",
      " train loss: 0.7540566673335471, train acc: 0.7404919691669876\n",
      " val loss: 0.863365003403197, val acc: 0.7062278369639782\n",
      "\n",
      "Epoch 15\n",
      " train loss: 0.7433941162155577, train acc: 0.7464620331523624\n",
      " val loss: 0.8453787045275911, val acc: 0.7093085106382979\n",
      "\n",
      "Epoch 16\n",
      " train loss: 0.7380205021806783, train acc: 0.7462702402249115\n",
      " val loss: 0.8494803527568249, val acc: 0.7060948582405739\n",
      "\n",
      "Epoch 17\n",
      " train loss: 0.7378132252305256, train acc: 0.7483840427843265\n",
      " val loss: 0.8480833720653616, val acc: 0.7089317375041069\n",
      "\n",
      "Epoch 18\n",
      " train loss: 0.7354315130322682, train acc: 0.7479841341920047\n",
      " val loss: 0.8467379722189396, val acc: 0.7110372340425531\n",
      "\n",
      "Epoch 19\n",
      " train loss: 0.7354738201803002, train acc: 0.7478127447952954\n",
      " val loss: 0.8469868228790608, val acc: 0.7093971630360217\n",
      "\n"
     ]
    }
   ],
   "source": [
    "transform = transforms.Compose([\n",
    "    transforms.RandomGrayscale(p=0.3),  \n",
    "    transforms.ToTensor(),\n",
    "    transforms.Normalize((0.5, 0.5, 0.5), (0.5, 0.5, 0.5))\n",
    "])\n",
    "\n",
    "train_loader, val_loader, test_loader = get_cifar10_data(batch_size=64, transform_train=transform)\n",
    "net = BasicBlockNet().to(device)\n",
    "optimizer = optim.SGD(net.parameters(), lr=0.1, momentum=0.9)\n",
    "scheduler = optim.lr_scheduler.MultiStepLR(optimizer, milestones=[10, 15], gamma=0.1)\n",
    "tr_loss_log, tr_acc_log, val_loss_log, val_acc_log = train(net, optimizer, 20, train_loader, val_loader, scheduler)"
   ]
  },
  {
   "cell_type": "code",
   "execution_count": null,
   "metadata": {
    "execution": {
     "iopub.execute_input": "2024-11-26T09:36:58.872662Z",
     "iopub.status.busy": "2024-11-26T09:36:58.871652Z",
     "iopub.status.idle": "2024-11-26T09:37:00.942817Z"
    }
   },
   "outputs": [
    {
     "name": "stdout",
     "output_type": "stream",
     "text": [
      "Loss = 0.8141631372035689, Точность модели = 0.7224323248407644\n"
     ]
    }
   ],
   "source": [
    "loss, accuracy = test(net, test_loader)\n",
    "print(f'Loss = {loss}, Точность модели = {accuracy}')"
   ]
  },
  {
   "cell_type": "markdown",
   "metadata": {},
   "source": [
    "Качество модели совсем немного ухудшилось"
   ]
  },
  {
   "cell_type": "markdown",
   "metadata": {},
   "source": [
    "3. RandomSolarize инвертирует значения пикселей, которые превышают заданный порог threshold."
   ]
  },
  {
   "cell_type": "code",
   "execution_count": null,
   "metadata": {
    "execution": {
     "iopub.execute_input": "2024-11-26T09:37:00.945023Z",
     "iopub.status.busy": "2024-11-26T09:37:00.944134Z",
     "iopub.status.idle": "2024-11-26T09:44:15.621780Z"
    }
   },
   "outputs": [
    {
     "name": "stdout",
     "output_type": "stream",
     "text": [
      "Files already downloaded and verified\n",
      "Files already downloaded and verified\n",
      "Epoch 0\n",
      " train loss: 1.738553910194411, train acc: 0.38314099634369286\n",
      " val loss: 1.4613562421595796, val acc: 0.4837544327086591\n",
      "\n",
      "Epoch 1\n",
      " train loss: 1.3980688777440644, train acc: 0.5154413685502256\n",
      " val loss: 1.4241647101463155, val acc: 0.5209441489361702\n",
      "\n",
      "Epoch 2\n",
      " train loss: 1.2823135075882977, train acc: 0.5564360799475605\n",
      " val loss: 1.2749588098931819, val acc: 0.561968085106383\n",
      "\n",
      "Epoch 3\n",
      " train loss: 1.2094320018505047, train acc: 0.5834380712979891\n",
      " val loss: 1.3209133772139854, val acc: 0.5559397163543295\n",
      "\n",
      "Epoch 4\n",
      " train loss: 1.1683819548957308, train acc: 0.5990793940898923\n",
      " val loss: 1.2850049883761305, val acc: 0.56657801422667\n",
      "\n",
      "Epoch 5\n",
      " train loss: 1.1309369267449736, train acc: 0.6104441433327725\n",
      " val loss: 1.1917575143753214, val acc: 0.5918661348363187\n",
      "\n",
      "Epoch 6\n",
      " train loss: 1.1050233191502377, train acc: 0.6195359428360432\n",
      " val loss: 1.1293186033025702, val acc: 0.6131648936170213\n",
      "\n",
      "Epoch 7\n",
      " train loss: 1.0874366317850144, train acc: 0.6256161857348691\n",
      " val loss: 1.1272038916324048, val acc: 0.6117464539852548\n",
      "\n",
      "Epoch 8\n",
      " train loss: 1.0729502150737826, train acc: 0.6292806542333781\n",
      " val loss: 1.101783743310482, val acc: 0.6177969859001484\n",
      "\n",
      "Epoch 9\n",
      " train loss: 1.0507321453617522, train acc: 0.6387805235887141\n",
      " val loss: 1.1122677640712006, val acc: 0.622251773134191\n",
      "\n",
      "Epoch 10\n",
      " train loss: 0.950747207270244, train acc: 0.6751436405905422\n",
      " val loss: 0.9977684406524009, val acc: 0.6577570922831272\n",
      "\n",
      "Epoch 11\n",
      " train loss: 0.9299573664037576, train acc: 0.6809912836094008\n",
      " val loss: 0.9859447484320782, val acc: 0.6610372340425532\n",
      "\n",
      "Epoch 12\n",
      " train loss: 0.9263377211429519, train acc: 0.6819910550902051\n",
      " val loss: 0.9767808612356794, val acc: 0.6630762412192973\n",
      "\n",
      "Epoch 13\n",
      " train loss: 0.9197529961901565, train acc: 0.6857412182870687\n",
      " val loss: 0.9699017073245759, val acc: 0.6667553191489362\n",
      "\n",
      "Epoch 14\n",
      " train loss: 0.9129126907702556, train acc: 0.6883120592377086\n",
      " val loss: 0.9745186988343584, val acc: 0.667065602921425\n",
      "\n",
      "Epoch 15\n",
      " train loss: 0.9034992627513474, train acc: 0.6889200836038677\n",
      " val loss: 0.9659102082252502, val acc: 0.6692154255319149\n",
      "\n",
      "Epoch 16\n",
      " train loss: 0.9021324116525528, train acc: 0.6919030751998944\n",
      " val loss: 0.9620036827757004, val acc: 0.6728723404255319\n",
      "\n",
      "Epoch 17\n",
      " train loss: 0.899001864672143, train acc: 0.6938577305246315\n",
      " val loss: 0.9644434518002449, val acc: 0.6696808510638298\n",
      "\n",
      "Epoch 18\n",
      " train loss: 0.8978088433825337, train acc: 0.6907278336380256\n",
      " val loss: 0.9623226794790715, val acc: 0.6690824468085106\n",
      "\n",
      "Epoch 19\n",
      " train loss: 0.8982354438501041, train acc: 0.6912542438812186\n",
      " val loss: 0.9627197679052961, val acc: 0.6686391843126175\n",
      "\n"
     ]
    }
   ],
   "source": [
    "transform = transforms.Compose([\n",
    "    transforms.RandomSolarize(threshold=2.0), \n",
    "    transforms.ToTensor(),\n",
    "    transforms.Normalize((0.5, 0.5, 0.5), (0.5, 0.5, 0.5))\n",
    "])\n",
    "\n",
    "train_loader, val_loader, test_loader = get_cifar10_data(batch_size=64, transform_train=transform)\n",
    "\n",
    "net = BasicBlockNet().to(device)\n",
    "optimizer = optim.SGD(net.parameters(), lr=0.1, momentum=0.9)\n",
    "scheduler = optim.lr_scheduler.MultiStepLR(optimizer, milestones=[10, 15], gamma=0.1)\n",
    "tr_loss_log, tr_acc_log, val_loss_log, val_acc_log = train(net, optimizer, 20, train_loader, val_loader, scheduler)"
   ]
  },
  {
   "cell_type": "code",
   "execution_count": null,
   "metadata": {
    "execution": {
     "iopub.execute_input": "2024-11-26T09:44:15.623474Z",
     "iopub.status.busy": "2024-11-26T09:44:15.622855Z",
     "iopub.status.idle": "2024-11-26T09:44:17.654571Z"
    }
   },
   "outputs": [
    {
     "name": "stdout",
     "output_type": "stream",
     "text": [
      "Loss = 0.9565982040326306, Точность модели = 0.6714769108280255\n"
     ]
    }
   ],
   "source": [
    "loss, accuracy = test(net, test_loader)\n",
    "print(f'Loss = {loss}, Точность модели = {accuracy}')"
   ]
  },
  {
   "cell_type": "markdown",
   "metadata": {},
   "source": [
    "Качество модели ухудшилось сильнее"
   ]
  },
  {
   "cell_type": "markdown",
   "metadata": {},
   "source": [
    "4. RandomPerspective выполняет аугментацию изображенияс помощью перспективного преобразования. Это означает, что изображение выглядит как будто оно было снято с определенного угла, добавляя эффект \"перспективы\""
   ]
  },
  {
   "cell_type": "code",
   "execution_count": null,
   "metadata": {
    "execution": {
     "iopub.execute_input": "2024-11-26T09:56:20.288300Z",
     "iopub.status.busy": "2024-11-26T09:56:20.287292Z",
     "iopub.status.idle": "2024-11-26T10:04:49.815777Z"
    },
    "tags": []
   },
   "outputs": [
    {
     "name": "stdout",
     "output_type": "stream",
     "text": [
      "Files already downloaded and verified\n",
      "Files already downloaded and verified\n",
      "Epoch 0\n",
      " train loss: 1.681427236666845, train acc: 0.3933549882942841\n",
      " val loss: 1.4896121552649966, val acc: 0.4596409574468085\n",
      "\n",
      "Epoch 1\n",
      " train loss: 1.418673541035905, train acc: 0.4900716570984075\n",
      " val loss: 1.3014566862836796, val acc: 0.5362810283265216\n",
      "\n",
      "Epoch 2\n",
      " train loss: 1.3007483518319767, train acc: 0.5379953969549217\n",
      " val loss: 1.229397526446809, val acc: 0.5677969859001485\n",
      "\n",
      "Epoch 3\n",
      " train loss: 1.216878668808632, train acc: 0.5691352180414705\n",
      " val loss: 1.1816012035024928, val acc: 0.5838209220703612\n",
      "\n",
      "Epoch 4\n",
      " train loss: 1.1599473225351224, train acc: 0.5896162509482347\n",
      " val loss: 1.3226359095979243, val acc: 0.5502881206096487\n",
      "\n",
      "Epoch 5\n",
      " train loss: 1.1307298814574804, train acc: 0.6029683011541419\n",
      " val loss: 1.1143428021288933, val acc: 0.611436170212766\n",
      "\n",
      "Epoch 6\n",
      " train loss: 1.1035314754768526, train acc: 0.6112113149336095\n",
      " val loss: 1.1153416613315015, val acc: 0.6134530140998515\n",
      "\n",
      "Epoch 7\n",
      " train loss: 1.0796026458905863, train acc: 0.621282482386943\n",
      " val loss: 1.1010262398009605, val acc: 0.6194813829787233\n",
      "\n",
      "Epoch 8\n",
      " train loss: 1.0640306558861812, train acc: 0.6252366805643225\n",
      " val loss: 1.0508037934912011, val acc: 0.6343085106382979\n",
      "\n",
      "Epoch 9\n",
      " train loss: 1.0394736263608149, train acc: 0.6360505354033964\n",
      " val loss: 1.0582144724561813, val acc: 0.6331781914893617\n",
      "\n",
      "Epoch 10\n",
      " train loss: 0.9343408004021514, train acc: 0.6753558370487346\n",
      " val loss: 0.9591278210599372, val acc: 0.6642952127659575\n",
      "\n",
      "Epoch 11\n",
      " train loss: 0.920913485765893, train acc: 0.6790080634941784\n",
      " val loss: 0.9488221160908963, val acc: 0.6709441489361702\n",
      "\n",
      "Epoch 12\n",
      " train loss: 0.9119711237154233, train acc: 0.6822726234003657\n",
      " val loss: 0.959454766993827, val acc: 0.6662455674181593\n",
      "\n",
      "Epoch 13\n",
      " train loss: 0.9104660155568306, train acc: 0.6823175111462036\n",
      " val loss: 0.9448152686687226, val acc: 0.6716090425531915\n",
      "\n",
      "Epoch 14\n",
      " train loss: 0.9019995852623822, train acc: 0.6874347088323869\n",
      " val loss: 0.952077886906076, val acc: 0.6702349289934686\n",
      "\n",
      "Epoch 15\n",
      " train loss: 0.8950925627399842, train acc: 0.6907278336380256\n",
      " val loss: 0.926532604339275, val acc: 0.6772828013338941\n",
      "\n",
      "Epoch 16\n",
      " train loss: 0.8859362127140191, train acc: 0.6901157286964779\n",
      " val loss: 0.9377350467316647, val acc: 0.6736702127659574\n",
      "\n",
      "Epoch 17\n",
      " train loss: 0.8936716453248883, train acc: 0.691225678981767\n",
      " val loss: 0.9388243586459059, val acc: 0.6770611702127659\n",
      "\n",
      "Epoch 18\n",
      " train loss: 0.8870508923609034, train acc: 0.6914337947556044\n",
      " val loss: 0.9303860380294475, val acc: 0.6758421986661058\n",
      "\n",
      "Epoch 19\n",
      " train loss: 0.8869198156449215, train acc: 0.6905564442413162\n",
      " val loss: 0.9257195452426342, val acc: 0.6776595744680851\n",
      "\n"
     ]
    }
   ],
   "source": [
    "transform = transforms.Compose([\n",
    "    transforms.RandomPerspective(distortion_scale=0.4, p=0.7),\n",
    "    transforms.ToTensor(),\n",
    "    transforms.Normalize((0.5, 0.5, 0.5), (0.5, 0.5, 0.5))\n",
    "])\n",
    "\n",
    "train_loader, val_loader, test_loader = get_cifar10_data(batch_size=64, transform_train=transform)\n",
    "\n",
    "net = BasicBlockNet().to(device)\n",
    "optimizer = optim.SGD(net.parameters(), lr=0.1, momentum=0.9)\n",
    "scheduler = optim.lr_scheduler.MultiStepLR(optimizer, milestones=[10, 15], gamma=0.1)\n",
    "tr_loss_log, tr_acc_log, val_loss_log, val_acc_log = train(net, optimizer, 20, train_loader, val_loader, scheduler)"
   ]
  },
  {
   "cell_type": "code",
   "execution_count": null,
   "metadata": {
    "execution": {
     "iopub.execute_input": "2024-11-26T10:04:49.818932Z",
     "iopub.status.busy": "2024-11-26T10:04:49.817578Z",
     "iopub.status.idle": "2024-11-26T10:04:51.973338Z"
    },
    "tags": []
   },
   "outputs": [
    {
     "name": "stdout",
     "output_type": "stream",
     "text": [
      "Loss = 0.8882117123360846, Точность модели = 0.6978503184713376\n"
     ]
    }
   ],
   "source": [
    "loss, accuracy = test(net, test_loader)\n",
    "print(f'Loss = {loss}, Точность модели = {accuracy}')"
   ]
  },
  {
   "cell_type": "markdown",
   "metadata": {},
   "source": [
    "Качество модели ухудшилось по сравнению с изначальным"
   ]
  },
  {
   "cell_type": "markdown",
   "metadata": {},
   "source": [
    "Теперь применим вместе RandomRotation, RandomSolarize и RandomGrayscale"
   ]
  },
  {
   "cell_type": "code",
   "execution_count": null,
   "metadata": {
    "execution": {
     "iopub.execute_input": "2024-11-26T10:33:19.112929Z",
     "iopub.status.busy": "2024-11-26T10:33:19.111880Z",
     "iopub.status.idle": "2024-11-26T10:41:26.621595Z"
    },
    "tags": []
   },
   "outputs": [
    {
     "name": "stdout",
     "output_type": "stream",
     "text": [
      "Files already downloaded and verified\n",
      "Files already downloaded and verified\n",
      "Epoch 0\n",
      " train loss: 1.8586260433388802, train acc: 0.32732926349971153\n",
      " val loss: 1.7151867612879328, val acc: 0.3835992908224146\n",
      "\n",
      "Epoch 1\n",
      " train loss: 1.647178137324192, train acc: 0.4160640833037863\n",
      " val loss: 1.5951880033980024, val acc: 0.42936613483631864\n",
      "\n",
      "Epoch 2\n",
      " train loss: 1.55062673950544, train acc: 0.4499502154765225\n",
      " val loss: 1.5163004920837726, val acc: 0.46513741143206333\n",
      "\n",
      "Epoch 3\n",
      " train loss: 1.4997347523568971, train acc: 0.47052510445035134\n",
      " val loss: 1.5685312124008828, val acc: 0.46327570930440376\n",
      "\n",
      "Epoch 4\n",
      " train loss: 1.455651570935572, train acc: 0.48499526636474094\n",
      " val loss: 1.4524673319877461, val acc: 0.4876994680851064\n",
      "\n",
      "Epoch 5\n",
      " train loss: 1.427612861723961, train acc: 0.4957968790962666\n",
      " val loss: 1.4403137952723402, val acc: 0.48854166662439386\n",
      "\n",
      "Epoch 6\n",
      " train loss: 1.400738633093058, train acc: 0.5053457168817956\n",
      " val loss: 1.3829903044599168, val acc: 0.5072030142266699\n",
      "\n",
      "Epoch 7\n",
      " train loss: 1.3886676562551608, train acc: 0.5115565421703311\n",
      " val loss: 1.3950467322735076, val acc: 0.5085328013338941\n",
      "\n",
      "Epoch 8\n",
      " train loss: 1.374733738097238, train acc: 0.5148782319299046\n",
      " val loss: 1.467732698359388, val acc: 0.5000443263256803\n",
      "\n",
      "Epoch 9\n",
      " train loss: 1.3499800822198718, train acc: 0.5258797989031079\n",
      " val loss: 1.360749782907202, val acc: 0.5242464539852548\n",
      "\n",
      "Epoch 10\n",
      " train loss: 1.2484307708644344, train acc: 0.5640669887854804\n",
      " val loss: 1.2680780299166416, val acc: 0.5580895390916378\n",
      "\n",
      "Epoch 11\n",
      " train loss: 1.239281699252085, train acc: 0.566462359655056\n",
      " val loss: 1.240739434577049, val acc: 0.569126773134191\n",
      "\n",
      "Epoch 12\n",
      " train loss: 1.225059969442636, train acc: 0.5736199072553645\n",
      " val loss: 1.247478035155763, val acc: 0.5638076241980208\n",
      "\n",
      "Epoch 13\n",
      " train loss: 1.2204739267255096, train acc: 0.5729017040847206\n",
      " val loss: 1.2323057687028927, val acc: 0.570722517815042\n",
      "\n",
      "Epoch 14\n",
      " train loss: 1.2193096223435411, train acc: 0.5758234852519724\n",
      " val loss: 1.2250766911405198, val acc: 0.5745345744680851\n",
      "\n",
      "Epoch 15\n",
      " train loss: 1.2129484655870162, train acc: 0.5752072995715865\n",
      " val loss: 1.2167648125202097, val acc: 0.5745345744680851\n",
      "\n",
      "Epoch 16\n",
      " train loss: 1.2060522604903965, train acc: 0.5773700705067113\n",
      " val loss: 1.22049632605086, val acc: 0.5714539007937655\n",
      "\n",
      "Epoch 17\n",
      " train loss: 1.201043930306513, train acc: 0.5837237202925045\n",
      " val loss: 1.2165196056061602, val acc: 0.5765292553191489\n",
      "\n",
      "Epoch 18\n",
      " train loss: 1.202267011951049, train acc: 0.5789656241371601\n",
      " val loss: 1.2280440196077875, val acc: 0.5700576241980208\n",
      "\n",
      "Epoch 19\n",
      " train loss: 1.206178517620568, train acc: 0.5810631039591551\n",
      " val loss: 1.2175945766428684, val acc: 0.5758200353764473\n",
      "\n"
     ]
    }
   ],
   "source": [
    "transform = transforms.Compose([\n",
    "         transforms.RandomSolarize(threshold=128, p=0.5),\n",
    "         transforms.RandomGrayscale(p=0.3),\n",
    "         transforms.RandomRotation(degrees=(-30, 30)),\n",
    "         transforms.ToTensor(),\n",
    "         transforms.Normalize((0.5, 0.5, 0.5), (0.5, 0.5, 0.5))\n",
    "])\n",
    "train_loader, val_loader, test_loader = get_cifar10_data(batch_size=64, transform_train=transform)\n",
    "\n",
    "net = BasicBlockNet().to(device)\n",
    "optimizer = optim.SGD(net.parameters(), lr=0.1, momentum=0.9)\n",
    "scheduler = optim.lr_scheduler.MultiStepLR(optimizer, milestones=[10, 15], gamma=0.1)\n",
    "tr_loss_log, tr_acc_log, val_loss_log, val_acc_log = train(net, optimizer, 20, train_loader, val_loader, scheduler)"
   ]
  },
  {
   "cell_type": "code",
   "execution_count": null,
   "metadata": {
    "execution": {
     "iopub.execute_input": "2024-11-26T10:41:26.624072Z",
     "iopub.status.busy": "2024-11-26T10:41:26.623194Z",
     "iopub.status.idle": "2024-11-26T10:41:29.034988Z"
    },
    "tags": []
   },
   "outputs": [
    {
     "name": "stdout",
     "output_type": "stream",
     "text": [
      "Loss = 0.9645237106426506, Точность модели = 0.6667993630573248\n"
     ]
    }
   ],
   "source": [
    "loss, accuracy = test(net, test_loader)\n",
    "print(f'Loss = {loss}, Точность модели = {accuracy}')"
   ]
  },
  {
   "cell_type": "markdown",
   "metadata": {},
   "source": [
    "Качество ухудшилось сильнее, чем при использовании каждого метода по отдельности"
   ]
  },
  {
   "cell_type": "markdown",
   "metadata": {},
   "source": [
    "Похоже, что качество модели рассмотренными аугментациями улучшить не удалось, возможно из-за того, что при их применении модель становится сложнее и 20 эпох не достаточно "
   ]
  },
  {
   "cell_type": "markdown",
   "metadata": {
    "id": "HCENjLw5O9Dv",
    "pycharm": {
     "name": "#%% md\n"
    }
   },
   "source": [
    "## Бонус. Логирование в wandb (2 балла)"
   ]
  },
  {
   "cell_type": "markdown",
   "metadata": {
    "id": "xOyzc1mnO9Dv",
    "pycharm": {
     "name": "#%% md\n"
    }
   },
   "source": [
    "На практике специалиста по глубинному обучению часто встречаются ситуации, когда нейросеть учится на каком-то удаленном сервере. И обычно вам хочется отслеживать прогресс обучения, особенно когда время обучения модели исчисляется днями или неделями. Для таких целей существует несколько инструментов. Вероятно, самый популярный из них — [wandb](https://wandb.ai/site).\n",
    "\n",
    "Ваша задача состоит в том, чтобы разобраться как им пользоваться, и повторить задания 2.1 и 2.2 с его использованием. Обучение вы можете запускать в этом же ноутбуке, но теперь вам необходимо через wandb логировать значения функции потерь и точности на обучающей выборке и на валидационной. Результатом работы должны быть ваш код и публичная ссылка на страничку с графиками, идентичными графикам в задании 2.2."
   ]
  },
  {
   "cell_type": "code",
   "execution_count": null,
   "metadata": {
    "id": "m5gSTLAr_QS4",
    "pycharm": {
     "name": "#%%\n"
    },
    "tags": []
   },
   "outputs": [],
   "source": [
    "%pip install wandb "
   ]
  },
  {
   "cell_type": "code",
   "execution_count": null,
   "metadata": {},
   "outputs": [],
   "source": [
    "wandb.login()"
   ]
  },
  {
   "cell_type": "code",
   "execution_count": null,
   "metadata": {},
   "outputs": [],
   "source": [
    "import wandb\n",
    "import random"
   ]
  },
  {
   "cell_type": "code",
   "execution_count": null,
   "metadata": {},
   "outputs": [],
   "source": []
  },
  {
   "cell_type": "code",
   "execution_count": null,
   "metadata": {},
   "outputs": [],
   "source": []
  }
 ],
 "metadata": {
  "accelerator": "GPU",
  "colab": {
   "collapsed_sections": [],
   "provenance": []
  },
  "kernelspec": {
   "display_name": "DataSphere Kernel",
   "language": "python",
   "name": "python3"
  },
  "language_info": {
   "codemirror_mode": {
    "name": "ipython",
    "version": 3
   },
   "file_extension": ".py",
   "mimetype": "text/x-python",
   "name": "python",
   "nbconvert_exporter": "python",
   "pygments_lexer": "ipython3",
   "version": "3.10.12"
  },
  "widgets": {
   "application/vnd.jupyter.widget-state+json": {
    "0fee9f5b7bdb4129a71ef0cfe9d3b1fa": {
     "model_module": "@jupyter-widgets/controls",
     "model_module_version": "1.5.0",
     "model_name": "ProgressStyleModel",
     "state": {
      "_model_module": "@jupyter-widgets/controls",
      "_model_module_version": "1.5.0",
      "_model_name": "ProgressStyleModel",
      "_view_count": null,
      "_view_module": "@jupyter-widgets/base",
      "_view_module_version": "1.2.0",
      "_view_name": "StyleView",
      "bar_color": null,
      "description_width": ""
     }
    },
    "17b2be81159e41f1a5c6bb966516572e": {
     "model_module": "@jupyter-widgets/base",
     "model_module_version": "1.2.0",
     "model_name": "LayoutModel",
     "state": {
      "_model_module": "@jupyter-widgets/base",
      "_model_module_version": "1.2.0",
      "_model_name": "LayoutModel",
      "_view_count": null,
      "_view_module": "@jupyter-widgets/base",
      "_view_module_version": "1.2.0",
      "_view_name": "LayoutView",
      "align_content": null,
      "align_items": null,
      "align_self": null,
      "border": null,
      "bottom": null,
      "display": null,
      "flex": null,
      "flex_flow": null,
      "grid_area": null,
      "grid_auto_columns": null,
      "grid_auto_flow": null,
      "grid_auto_rows": null,
      "grid_column": null,
      "grid_gap": null,
      "grid_row": null,
      "grid_template_areas": null,
      "grid_template_columns": null,
      "grid_template_rows": null,
      "height": null,
      "justify_content": null,
      "justify_items": null,
      "left": null,
      "margin": null,
      "max_height": null,
      "max_width": null,
      "min_height": null,
      "min_width": null,
      "object_fit": null,
      "object_position": null,
      "order": null,
      "overflow": null,
      "overflow_x": null,
      "overflow_y": null,
      "padding": null,
      "right": null,
      "top": null,
      "visibility": null,
      "width": null
     }
    },
    "18b20091dbf64b129824a8fb3266e3c0": {
     "model_module": "@jupyter-widgets/controls",
     "model_module_version": "1.5.0",
     "model_name": "DescriptionStyleModel",
     "state": {
      "_model_module": "@jupyter-widgets/controls",
      "_model_module_version": "1.5.0",
      "_model_name": "DescriptionStyleModel",
      "_view_count": null,
      "_view_module": "@jupyter-widgets/base",
      "_view_module_version": "1.2.0",
      "_view_name": "StyleView",
      "description_width": ""
     }
    },
    "22bb21a6c57a413fb7374efe31349e6e": {
     "model_module": "@jupyter-widgets/base",
     "model_module_version": "1.2.0",
     "model_name": "LayoutModel",
     "state": {
      "_model_module": "@jupyter-widgets/base",
      "_model_module_version": "1.2.0",
      "_model_name": "LayoutModel",
      "_view_count": null,
      "_view_module": "@jupyter-widgets/base",
      "_view_module_version": "1.2.0",
      "_view_name": "LayoutView",
      "align_content": null,
      "align_items": null,
      "align_self": null,
      "border": null,
      "bottom": null,
      "display": null,
      "flex": null,
      "flex_flow": null,
      "grid_area": null,
      "grid_auto_columns": null,
      "grid_auto_flow": null,
      "grid_auto_rows": null,
      "grid_column": null,
      "grid_gap": null,
      "grid_row": null,
      "grid_template_areas": null,
      "grid_template_columns": null,
      "grid_template_rows": null,
      "height": null,
      "justify_content": null,
      "justify_items": null,
      "left": null,
      "margin": null,
      "max_height": null,
      "max_width": null,
      "min_height": null,
      "min_width": null,
      "object_fit": null,
      "object_position": null,
      "order": null,
      "overflow": null,
      "overflow_x": null,
      "overflow_y": null,
      "padding": null,
      "right": null,
      "top": null,
      "visibility": null,
      "width": null
     }
    },
    "7d238166caf64537ad9aa2040dcdc1ec": {
     "model_module": "@jupyter-widgets/controls",
     "model_module_version": "1.5.0",
     "model_name": "DescriptionStyleModel",
     "state": {
      "_model_module": "@jupyter-widgets/controls",
      "_model_module_version": "1.5.0",
      "_model_name": "DescriptionStyleModel",
      "_view_count": null,
      "_view_module": "@jupyter-widgets/base",
      "_view_module_version": "1.2.0",
      "_view_name": "StyleView",
      "description_width": ""
     }
    },
    "95c5696493db48738dbdc9940acec1d8": {
     "model_module": "@jupyter-widgets/controls",
     "model_module_version": "1.5.0",
     "model_name": "HTMLModel",
     "state": {
      "_dom_classes": [],
      "_model_module": "@jupyter-widgets/controls",
      "_model_module_version": "1.5.0",
      "_model_name": "HTMLModel",
      "_view_count": null,
      "_view_module": "@jupyter-widgets/controls",
      "_view_module_version": "1.5.0",
      "_view_name": "HTMLView",
      "description": "",
      "description_tooltip": null,
      "layout": "IPY_MODEL_22bb21a6c57a413fb7374efe31349e6e",
      "placeholder": "​",
      "style": "IPY_MODEL_18b20091dbf64b129824a8fb3266e3c0",
      "value": "100%"
     }
    },
    "9bad0d6a00c14229b0d776a2cfe15090": {
     "model_module": "@jupyter-widgets/base",
     "model_module_version": "1.2.0",
     "model_name": "LayoutModel",
     "state": {
      "_model_module": "@jupyter-widgets/base",
      "_model_module_version": "1.2.0",
      "_model_name": "LayoutModel",
      "_view_count": null,
      "_view_module": "@jupyter-widgets/base",
      "_view_module_version": "1.2.0",
      "_view_name": "LayoutView",
      "align_content": null,
      "align_items": null,
      "align_self": null,
      "border": null,
      "bottom": null,
      "display": null,
      "flex": null,
      "flex_flow": null,
      "grid_area": null,
      "grid_auto_columns": null,
      "grid_auto_flow": null,
      "grid_auto_rows": null,
      "grid_column": null,
      "grid_gap": null,
      "grid_row": null,
      "grid_template_areas": null,
      "grid_template_columns": null,
      "grid_template_rows": null,
      "height": null,
      "justify_content": null,
      "justify_items": null,
      "left": null,
      "margin": null,
      "max_height": null,
      "max_width": null,
      "min_height": null,
      "min_width": null,
      "object_fit": null,
      "object_position": null,
      "order": null,
      "overflow": null,
      "overflow_x": null,
      "overflow_y": null,
      "padding": null,
      "right": null,
      "top": null,
      "visibility": null,
      "width": null
     }
    },
    "aa9da821ba0c42b5b051355e50e691f0": {
     "model_module": "@jupyter-widgets/controls",
     "model_module_version": "1.5.0",
     "model_name": "HBoxModel",
     "state": {
      "_dom_classes": [],
      "_model_module": "@jupyter-widgets/controls",
      "_model_module_version": "1.5.0",
      "_model_name": "HBoxModel",
      "_view_count": null,
      "_view_module": "@jupyter-widgets/controls",
      "_view_module_version": "1.5.0",
      "_view_name": "HBoxView",
      "box_style": "",
      "children": [
       "IPY_MODEL_95c5696493db48738dbdc9940acec1d8",
       "IPY_MODEL_fe515a1f743f49d0b251b43919d52a8e",
       "IPY_MODEL_f4f339c969fd4e21bc683ecb2567897b"
      ],
      "layout": "IPY_MODEL_17b2be81159e41f1a5c6bb966516572e"
     }
    },
    "cd991379661b4b4ab405bf66f75c6834": {
     "model_module": "@jupyter-widgets/base",
     "model_module_version": "1.2.0",
     "model_name": "LayoutModel",
     "state": {
      "_model_module": "@jupyter-widgets/base",
      "_model_module_version": "1.2.0",
      "_model_name": "LayoutModel",
      "_view_count": null,
      "_view_module": "@jupyter-widgets/base",
      "_view_module_version": "1.2.0",
      "_view_name": "LayoutView",
      "align_content": null,
      "align_items": null,
      "align_self": null,
      "border": null,
      "bottom": null,
      "display": null,
      "flex": null,
      "flex_flow": null,
      "grid_area": null,
      "grid_auto_columns": null,
      "grid_auto_flow": null,
      "grid_auto_rows": null,
      "grid_column": null,
      "grid_gap": null,
      "grid_row": null,
      "grid_template_areas": null,
      "grid_template_columns": null,
      "grid_template_rows": null,
      "height": null,
      "justify_content": null,
      "justify_items": null,
      "left": null,
      "margin": null,
      "max_height": null,
      "max_width": null,
      "min_height": null,
      "min_width": null,
      "object_fit": null,
      "object_position": null,
      "order": null,
      "overflow": null,
      "overflow_x": null,
      "overflow_y": null,
      "padding": null,
      "right": null,
      "top": null,
      "visibility": null,
      "width": null
     }
    },
    "f4f339c969fd4e21bc683ecb2567897b": {
     "model_module": "@jupyter-widgets/controls",
     "model_module_version": "1.5.0",
     "model_name": "HTMLModel",
     "state": {
      "_dom_classes": [],
      "_model_module": "@jupyter-widgets/controls",
      "_model_module_version": "1.5.0",
      "_model_name": "HTMLModel",
      "_view_count": null,
      "_view_module": "@jupyter-widgets/controls",
      "_view_module_version": "1.5.0",
      "_view_name": "HTMLView",
      "description": "",
      "description_tooltip": null,
      "layout": "IPY_MODEL_cd991379661b4b4ab405bf66f75c6834",
      "placeholder": "​",
      "style": "IPY_MODEL_7d238166caf64537ad9aa2040dcdc1ec",
      "value": " 170498071/170498071 [00:13&lt;00:00, 13339884.37it/s]"
     }
    },
    "fe515a1f743f49d0b251b43919d52a8e": {
     "model_module": "@jupyter-widgets/controls",
     "model_module_version": "1.5.0",
     "model_name": "FloatProgressModel",
     "state": {
      "_dom_classes": [],
      "_model_module": "@jupyter-widgets/controls",
      "_model_module_version": "1.5.0",
      "_model_name": "FloatProgressModel",
      "_view_count": null,
      "_view_module": "@jupyter-widgets/controls",
      "_view_module_version": "1.5.0",
      "_view_name": "ProgressView",
      "bar_style": "success",
      "description": "",
      "description_tooltip": null,
      "layout": "IPY_MODEL_9bad0d6a00c14229b0d776a2cfe15090",
      "max": 170498071,
      "min": 0,
      "orientation": "horizontal",
      "style": "IPY_MODEL_0fee9f5b7bdb4129a71ef0cfe9d3b1fa",
      "value": 170498071
     }
    }
   }
  }
 },
 "nbformat": 4,
 "nbformat_minor": 4
}
